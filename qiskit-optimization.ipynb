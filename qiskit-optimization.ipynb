{
 "cells": [
  {
   "cell_type": "code",
   "execution_count": 1,
   "metadata": {
    "ExecuteTime": {
     "start_time": "2023-04-25T15:38:03.607197Z",
     "end_time": "2023-04-25T15:38:07.421049Z"
    }
   },
   "outputs": [],
   "source": [
    "from qiskit.utils import algorithm_globals\n",
    "from qiskit.algorithms.minimum_eigensolvers import QAOA, NumPyMinimumEigensolver\n",
    "from qiskit.algorithms.optimizers import COBYLA\n",
    "from qiskit.primitives import Sampler\n",
    "from qiskit_optimization.algorithms import (\n",
    "    MinimumEigenOptimizer,\n",
    "    RecursiveMinimumEigenOptimizer,\n",
    "    SolutionSample,\n",
    "    OptimizationResultStatus,\n",
    ")\n",
    "from qiskit_optimization import QuadraticProgram\n",
    "from qiskit.visualization import plot_histogram\n",
    "from typing import List, Tuple\n",
    "import numpy as np\n",
    "\n",
    "from docplex.mp.model import Model\n",
    "\n",
    "from qiskit_optimization.algorithms import MinimumEigenOptimizer\n",
    "from qiskit_optimization.translators import from_docplex_mp\n",
    "\n",
    "from qiskit.utils import algorithm_globals\n",
    "from qiskit.primitives import Sampler\n",
    "from qiskit.algorithms.minimum_eigensolvers import QAOA\n",
    "from qiskit.algorithms.optimizers import SPSA"
   ]
  },
  {
   "cell_type": "code",
   "execution_count": 2,
   "metadata": {
    "ExecuteTime": {
     "start_time": "2023-04-25T15:38:07.425777Z",
     "end_time": "2023-04-25T15:38:07.429803Z"
    }
   },
   "outputs": [
    {
     "name": "stdout",
     "output_type": "stream",
     "text": [
      "Problem name: \n",
      "\n",
      "Minimize\n",
      "  x*y - x*z + 2*y*z + x - 2*y + 3*z\n",
      "\n",
      "Subject to\n",
      "  No constraints\n",
      "\n",
      "  Binary variables (3)\n",
      "    x y z\n",
      "\n"
     ]
    }
   ],
   "source": [
    "# create a QUBO\n",
    "qubo = QuadraticProgram()\n",
    "qubo.binary_var(\"x\")\n",
    "qubo.binary_var(\"y\")\n",
    "qubo.binary_var(\"z\")\n",
    "qubo.minimize(linear=[1, -2, 3], quadratic={(\"x\", \"y\"): 1, (\"x\", \"z\"): -1, (\"y\", \"z\"): 2})\n",
    "print(qubo.prettyprint())"
   ]
  },
  {
   "cell_type": "markdown",
   "metadata": {},
   "source": [
    "# Simple Maxcut with 4 nodes"
   ]
  },
  {
   "cell_type": "markdown",
   "metadata": {},
   "source": [
    "## Doplex model"
   ]
  },
  {
   "cell_type": "code",
   "execution_count": 12,
   "metadata": {},
   "outputs": [
    {
     "name": "stdout",
     "output_type": "stream",
     "text": [
      "objective function value: 4.0\n",
      "variable values: x0=1.0, x1=0.0, x2=1.0, x3=0.0\n",
      "status: SUCCESS\n"
     ]
    }
   ],
   "source": [
    "\n",
    "\n",
    "# Generate a graph of 4 nodes\n",
    "n = 4\n",
    "edges = [(0, 1, 1.0), (0, 2, 1.0), (0, 3, 1.0), (1, 2, 1.0), (2, 3, 1.0)]  # (node_i, node_j, weight)\n",
    "\n",
    "# Formulate the problem as a Docplex model\n",
    "model = Model()\n",
    "\n",
    "# Create n binary variables\n",
    "x = model.binary_var_list(n)\n",
    "\n",
    "# Define the objective function to be maximized\n",
    "model.maximize(model.sum(w * x[i] * (1 - x[j]) + w * (1 - x[i]) * x[j] for i, j, w in edges))\n",
    "\n",
    "# Fix node 0 to be 1 to break the symmetry of the max-cut solution\n",
    "model.add(x[0] == 1)\n",
    "\n",
    "# Convert the Docplex model into a `QuadraticProgram` object\n",
    "problem = from_docplex_mp(model)\n",
    "\n",
    "# Run quantum algorithm QAOA on qasm simulator\n",
    "seed = 1234\n",
    "algorithm_globals.random_seed = seed\n",
    "\n",
    "spsa = SPSA(maxiter=250)\n",
    "sampler = Sampler()\n",
    "qaoa = QAOA(sampler=sampler, optimizer=spsa, reps=5)\n",
    "algorithm = MinimumEigenOptimizer(qaoa)\n",
    "result = algorithm.solve(problem)\n",
    "print(result.prettyprint())  # prints solution, x=[1, 0, 1, 0], the cost, fval=4"
   ]
  },
  {
   "cell_type": "markdown",
   "metadata": {},
   "source": [
    "## Quadratic model"
   ]
  },
  {
   "cell_type": "code",
   "execution_count": null,
   "metadata": {},
   "outputs": [],
   "source": []
  },
  {
   "cell_type": "code",
   "execution_count": null,
   "metadata": {},
   "outputs": [],
   "source": []
  },
  {
   "cell_type": "code",
   "execution_count": null,
   "metadata": {},
   "outputs": [],
   "source": []
  },
  {
   "cell_type": "code",
   "execution_count": null,
   "metadata": {},
   "outputs": [],
   "source": []
  },
  {
   "cell_type": "code",
   "execution_count": null,
   "metadata": {},
   "outputs": [],
   "source": []
  },
  {
   "cell_type": "markdown",
   "metadata": {},
   "source": [
    "# Min-cut max-flow problem: Krauss example"
   ]
  },
  {
   "cell_type": "markdown",
   "metadata": {},
   "source": [
    "## Doplex Model"
   ]
  },
  {
   "cell_type": "code",
   "execution_count": 19,
   "metadata": {},
   "outputs": [
    {
     "name": "stdout",
     "output_type": "stream",
     "text": [
      "\\ This file has been generated by DOcplex\n",
      "\\ ENCODING=ISO-8859-1\n",
      "\\Problem name: docplex_model4\n",
      "\n",
      "Minimize\n",
      " obj: [ - 8 x1^2 - 2 x1*x2 - 4 x1*x3 + 14 x1*x4 + 4 x2^2 - 4 x2*x4 + 2 x3^2\n",
      "      - 2 x3*x4 ]/2\n",
      "Subject To\n",
      "\n",
      "Bounds\n",
      " 0 <= x1 <= 1\n",
      " 0 <= x2 <= 1\n",
      " 0 <= x3 <= 1\n",
      " 0 <= x4 <= 1\n",
      "\n",
      "Binaries\n",
      " x1 x2 x3 x4\n",
      "End\n",
      "\n",
      "objective function value: -5.0\n",
      "variable values: x0=1.0, x1=0.0, x2=1.0, x3=0.0\n",
      "status: SUCCESS\n"
     ]
    }
   ],
   "source": [
    "\n",
    "# Generate a graph of 4 nodes, 4 edges\n",
    "n = 4\n",
    "edges = [(0, 1, 1.0), (0, 2, 2.0), (1, 3, 2.0), (2, 3, 1.0)]  # (node_i, node_j, weight)\n",
    "\n",
    "# Formulate the problem as a Docplex model\n",
    "model = Model()\n",
    "\n",
    "# Create n binary variables\n",
    "x = model.binary_var_list(n)\n",
    "\n",
    "# Define the objective function to be MINIMIZED\n",
    "KRAUSS_MODEL = True # add a last term for source and sink nodes\n",
    "if KRAUSS_MODEL:\n",
    "    model.minimize(\n",
    "        model.sum(w * (x[i]*x[i] - x[i]*x[j]) for i, j, w in edges) +\n",
    "        (1+1+2+2 +1)*(-x[0]*x[0] + x[0]*x[3])\n",
    "    )\n",
    "else:\n",
    "    # fixed source and sink nodes and sink nodes\n",
    "    model.minimize(\n",
    "        model.sum(w * (x[i]*x[i] - x[i]*x[j]) for i, j, w in edges)\n",
    "    )\n",
    "    model.add(x[0] == 1)\n",
    "    model.add(x[3] == 0)\n",
    "\n",
    "\n",
    "print(model.export_as_lp_string())\n",
    "\n",
    "# Convert the Docplex model into a `QuadraticProgram` object\n",
    "problem = from_docplex_mp(model)\n",
    "\n",
    "# Run quantum algorithm QAOA on qasm simulator\n",
    "seed = 1234\n",
    "algorithm_globals.random_seed = seed\n",
    "\n",
    "spsa = SPSA(maxiter=250)\n",
    "sampler = Sampler()\n",
    "qaoa = QAOA(sampler=sampler, optimizer=spsa, reps=5)\n",
    "algorithm = MinimumEigenOptimizer(qaoa)\n",
    "result = algorithm.solve(problem)\n",
    "print(result.prettyprint())  # prints solution, x=[1, 0, 1, 0], the cost, fval=4"
   ]
  },
  {
   "cell_type": "code",
   "execution_count": 21,
   "metadata": {},
   "outputs": [
    {
     "ename": "AttributeError",
     "evalue": "'QAOA' object has no attribute 'construct_circuit'",
     "output_type": "error",
     "traceback": [
      "\u001B[0;31m---------------------------------------------------------------------------\u001B[0m",
      "\u001B[0;31mAttributeError\u001B[0m                            Traceback (most recent call last)",
      "Input \u001B[0;32mIn [21]\u001B[0m, in \u001B[0;36m<cell line: 2>\u001B[0;34m()\u001B[0m\n\u001B[1;32m      1\u001B[0m \u001B[38;5;66;03m# generate quantum circuit from the QAOA result\u001B[39;00m\n\u001B[0;32m----> 2\u001B[0m qaoa_circuit \u001B[38;5;241m=\u001B[39m \u001B[43mqaoa\u001B[49m\u001B[38;5;241;43m.\u001B[39;49m\u001B[43mconstruct_circuit\u001B[49m(result\u001B[38;5;241m.\u001B[39mx)\n\u001B[1;32m      3\u001B[0m qaoa_circuit\u001B[38;5;241m.\u001B[39mdraw(output\u001B[38;5;241m=\u001B[39m\u001B[38;5;124m'\u001B[39m\u001B[38;5;124mmpl\u001B[39m\u001B[38;5;124m'\u001B[39m)\n",
      "\u001B[0;31mAttributeError\u001B[0m: 'QAOA' object has no attribute 'construct_circuit'"
     ]
    }
   ],
   "source": [
    "# generate quantum circuit from the QAOA result\n",
    "qaoa_circuit = qaoa.construct_circuit(result.x)\n",
    "qaoa_circuit.draw(output='mpl')\n",
    "\n"
   ]
  },
  {
   "cell_type": "code",
   "execution_count": null,
   "metadata": {},
   "outputs": [],
   "source": []
  },
  {
   "cell_type": "code",
   "execution_count": 20,
   "metadata": {},
   "outputs": [
    {
     "name": "stdout",
     "output_type": "stream",
     "text": [
      "<class 'qiskit_optimization.problems.quadratic_program.QuadraticProgram'>\n",
      "\n",
      "Problem name: docplex_model4\n",
      "\n",
      "Minimize\n",
      "  -4*x0^2 - x0*x1 - 2*x0*x2 + 7*x0*x3 + 2*x1^2 - 2*x1*x3 + x2^2 - x2*x3\n",
      "\n",
      "Subject to\n",
      "  No constraints\n",
      "\n",
      "  Binary variables (4)\n",
      "    x0 x1 x2 x3\n",
      "\n"
     ]
    }
   ],
   "source": [
    "mod = from_docplex_mp(model)\n",
    "print(type(mod))\n",
    "print()\n",
    "print(mod.prettyprint())"
   ]
  },
  {
   "cell_type": "code",
   "execution_count": 22,
   "metadata": {},
   "outputs": [],
   "source": [
    "qubitOp, offset = mod.to_ising()"
   ]
  },
  {
   "cell_type": "code",
   "execution_count": 23,
   "metadata": {},
   "outputs": [
    {
     "name": "stdout",
     "output_type": "stream",
     "text": [
      "Offset: -0.25\n",
      "Ising Hamiltonian:\n",
      "1.0 * IIIZ\n",
      "- 0.25 * IIZZ\n",
      "- 0.25 * IIZI\n",
      "- 0.5 * IZIZ\n",
      "+ 0.25 * IZII\n",
      "+ 1.75 * ZIIZ\n",
      "- 1.0 * ZIII\n",
      "- 0.5 * ZIZI\n",
      "- 0.25 * ZZII\n"
     ]
    }
   ],
   "source": [
    "print(\"Offset:\", offset)\n",
    "print(\"Ising Hamiltonian:\")\n",
    "print(str(qubitOp))"
   ]
  },
  {
   "cell_type": "code",
   "execution_count": null,
   "metadata": {},
   "outputs": [],
   "source": []
  },
  {
   "cell_type": "code",
   "execution_count": null,
   "metadata": {},
   "outputs": [],
   "source": []
  },
  {
   "cell_type": "markdown",
   "metadata": {},
   "source": [
    "# Max-cut problem: LOGISMOS example"
   ]
  },
  {
   "cell_type": "code",
   "execution_count": 26,
   "metadata": {
    "ExecuteTime": {
     "start_time": "2023-04-11T14:40:42.066084Z",
     "end_time": "2023-04-11T14:40:42.201731Z"
    }
   },
   "outputs": [
    {
     "name": "stdout",
     "output_type": "stream",
     "text": [
      "('1', '2', {'capacity': 500})\n",
      "500\n",
      "('1', '8', {'capacity': 500})\n",
      "500\n",
      "('1', '17', {'capacity': 10})\n",
      "10\n",
      "('2', '3', {'capacity': 500})\n",
      "500\n",
      "('2', '9', {'capacity': 500})\n",
      "500\n",
      "('2', '17', {'capacity': 10})\n",
      "10\n",
      "('3', '4', {'capacity': 500})\n",
      "500\n",
      "('3', '10', {'capacity': 500})\n",
      "500\n",
      "('3', '17', {'capacity': 18})\n",
      "18\n",
      "('4', '5', {'capacity': 500})\n",
      "500\n",
      "('6', '7', {'capacity': 500})\n",
      "500\n",
      "('6', '13', {'capacity': 500})\n",
      "500\n",
      "('6', '3', {'capacity': 500})\n",
      "500\n",
      "('6', '17', {'capacity': 5})\n",
      "5\n",
      "('7', '8', {'capacity': 500})\n",
      "500\n",
      "('7', '14', {'capacity': 500})\n",
      "500\n",
      "('7', '4', {'capacity': 500})\n",
      "500\n",
      "('7', '17', {'capacity': 1})\n",
      "1\n",
      "('8', '9', {'capacity': 500})\n",
      "500\n",
      "('8', '15', {'capacity': 500})\n",
      "500\n",
      "('8', '5', {'capacity': 500})\n",
      "500\n",
      "('8', '17', {'capacity': 17})\n",
      "17\n",
      "('9', '10', {'capacity': 500})\n",
      "500\n",
      "('11', '12', {'capacity': 500})\n",
      "500\n",
      "('11', '8', {'capacity': 500})\n",
      "500\n",
      "('11', '17', {'capacity': 10})\n",
      "10\n",
      "('12', '13', {'capacity': 500})\n",
      "500\n",
      "('12', '9', {'capacity': 500})\n",
      "500\n",
      "('12', '17', {'capacity': 1})\n",
      "1\n",
      "('13', '14', {'capacity': 500})\n",
      "500\n",
      "('13', '10', {'capacity': 500})\n",
      "500\n",
      "('14', '15', {'capacity': 500})\n",
      "500\n",
      "('14', '17', {'capacity': 3})\n",
      "3\n",
      "('16', '4', {'capacity': 13})\n",
      "13\n",
      "('16', '9', {'capacity': 13})\n",
      "13\n",
      "('16', '13', {'capacity': 16})\n",
      "16\n",
      "('16', '5', {'capacity': 1})\n",
      "1\n",
      "('16', '10', {'capacity': 1})\n",
      "1\n",
      "('16', '15', {'capacity': 1})\n",
      "1\n",
      "12120\n"
     ]
    }
   ],
   "source": [
    "# read the graph from a file\n",
    "import networkx as nx\n",
    "import matplotlib.pyplot as plt\n",
    "\n",
    "# G = nx.read_edgelist('./graph_samples/logismos_2d_hardconstraints.gml', nodetype=int, data=(('weight',float),))\n",
    "\n",
    "S = 16\n",
    "T = 17\n",
    "\n",
    "# read the graph from a file from gml format\n",
    "G_integer = nx.read_gml('./graph_samples/logismos_2d_hardconstraints.gml')\n",
    "\n",
    "total_capacity = 0\n",
    "for edge in G_integer.edges(data=True):\n",
    "    print(edge)\n",
    "\n",
    "    # get capacity\n",
    "    print(edge[2]['capacity'])\n",
    "    total_capacity += edge[2]['capacity']\n",
    "\n",
    "print(total_capacity)"
   ]
  },
  {
   "cell_type": "code",
   "execution_count": 24,
   "metadata": {
    "ExecuteTime": {
     "start_time": "2023-04-11T14:40:01.425148Z",
     "end_time": "2023-04-11T14:40:01.425687Z"
    }
   },
   "outputs": [
    {
     "ename": "TypeError",
     "evalue": "'OutEdgeDataView' object is not subscriptable",
     "output_type": "error",
     "traceback": [
      "\u001B[0;31m---------------------------------------------------------------------------\u001B[0m",
      "\u001B[0;31mTypeError\u001B[0m                                 Traceback (most recent call last)",
      "Input \u001B[0;32mIn [24]\u001B[0m, in \u001B[0;36m<cell line: 1>\u001B[0;34m()\u001B[0m\n\u001B[0;32m----> 1\u001B[0m \u001B[43mG_integer\u001B[49m\u001B[38;5;241;43m.\u001B[39;49m\u001B[43medges\u001B[49m\u001B[43m(\u001B[49m\u001B[43mdata\u001B[49m\u001B[38;5;241;43m=\u001B[39;49m\u001B[38;5;28;43;01mTrue\u001B[39;49;00m\u001B[43m)\u001B[49m\u001B[43m[\u001B[49m\u001B[38;5;241;43m0\u001B[39;49m\u001B[43m]\u001B[49m[\u001B[38;5;241m2\u001B[39m][\u001B[38;5;124m'\u001B[39m\u001B[38;5;124mcapacity\u001B[39m\u001B[38;5;124m'\u001B[39m]\n",
      "\u001B[0;31mTypeError\u001B[0m: 'OutEdgeDataView' object is not subscriptable"
     ]
    }
   ],
   "source": [
    "# sum all capacities of the edges in the graph\n",
    "total_capacity = 0\n",
    "for edge in G_integer.edges(data=True):\n",
    "    total_capacity += edge[2]['capacity']"
   ]
  },
  {
   "cell_type": "code",
   "execution_count": 10,
   "metadata": {
    "ExecuteTime": {
     "start_time": "2023-04-11T14:36:14.035636Z",
     "end_time": "2023-04-11T14:36:14.042059Z"
    }
   },
   "outputs": [
    {
     "name": "stdout",
     "output_type": "stream",
     "text": [
      "('1', {'old_label': '04'})\n",
      "('2', {'old_label': '03'})\n",
      "('3', {'old_label': '02'})\n",
      "('4', {'old_label': '01'})\n",
      "('5', {'old_label': '00'})\n",
      "('6', {'old_label': '14'})\n",
      "('7', {'old_label': '13'})\n",
      "('8', {'old_label': '12'})\n",
      "('9', {'old_label': '11'})\n",
      "('10', {'old_label': '10'})\n",
      "('11', {'old_label': '24'})\n",
      "('12', {'old_label': '23'})\n",
      "('13', {'old_label': '22'})\n",
      "('14', {'old_label': '21'})\n",
      "('15', {'old_label': '20'})\n",
      "('16', {'old_label': 's'})\n",
      "('17', {'old_label': 't'})\n"
     ]
    }
   ],
   "source": [
    "for node in G_integer.nodes(data=True):\n",
    "    print(node)"
   ]
  },
  {
   "cell_type": "code",
   "execution_count": 33,
   "outputs": [
    {
     "ename": "IndexError",
     "evalue": "list index out of range",
     "output_type": "error",
     "traceback": [
      "\u001B[0;31m---------------------------------------------------------------------------\u001B[0m",
      "\u001B[0;31mIndexError\u001B[0m                                Traceback (most recent call last)",
      "Input \u001B[0;32mIn [33]\u001B[0m, in \u001B[0;36m<cell line: 1>\u001B[0;34m()\u001B[0m\n\u001B[0;32m----> 1\u001B[0m \u001B[43mx\u001B[49m\u001B[43m[\u001B[49m\u001B[38;5;241;43m17\u001B[39;49m\u001B[43m]\u001B[49m\n",
      "\u001B[0;31mIndexError\u001B[0m: list index out of range"
     ]
    }
   ],
   "source": [],
   "metadata": {
    "collapsed": false,
    "ExecuteTime": {
     "start_time": "2023-04-11T15:12:42.028164Z",
     "end_time": "2023-04-11T15:12:42.035569Z"
    }
   }
  },
  {
   "cell_type": "code",
   "execution_count": 35,
   "metadata": {
    "ExecuteTime": {
     "start_time": "2023-04-11T15:15:04.772953Z",
     "end_time": "2023-04-11T16:19:29.548570Z"
    }
   },
   "outputs": [
    {
     "name": "stdout",
     "output_type": "stream",
     "text": [
      "\\ This file has been generated by DOcplex\n",
      "\\ ENCODING=ISO-8859-1\n",
      "\\Problem name: docplex_model5\n",
      "\n",
      "Minimize\n",
      " obj: [ 2020 x1^2 - 1000 x1*x2 - 1000 x1*x8 - 20 x1*x17 + 2020 x2^2 - 1000 x2*x3\n",
      "      - 1000 x2*x9 - 20 x2*x17 + 2036 x3^2 - 1000 x3*x4 - 1000 x3*x6\n",
      "      - 1000 x3*x10 - 36 x3*x17 + 1000 x4^2 - 1000 x4*x5 - 1000 x4*x7\n",
      "      - 26 x4*x16 - 1000 x5*x8 - 2 x5*x16 + 3010 x6^2 - 1000 x6*x7 - 1000 x6*x13\n",
      "      - 10 x6*x17 + 3002 x7^2 - 1000 x7*x8 - 1000 x7*x14 - 2 x7*x17 + 3034 x8^2\n",
      "      - 1000 x8*x9 - 1000 x8*x11 - 1000 x8*x15 - 34 x8*x17 + 1000 x9^2\n",
      "      - 1000 x9*x10 - 1000 x9*x12 - 26 x9*x16 - 1000 x10*x13 - 2 x10*x16\n",
      "      + 2020 x11^2 - 1000 x11*x12 - 20 x11*x17 + 2002 x12^2 - 1000 x12*x13\n",
      "      - 2 x12*x17 + 2000 x13^2 - 1000 x13*x14 - 32 x13*x16 + 1006 x14^2\n",
      "      - 1000 x14*x15 - 6 x14*x17 - 2 x15*x16 - 24152 x16^2 + 24242 x16*x17 ]/2\n",
      "Subject To\n",
      "\n",
      "Bounds\n",
      " 0 <= x1 <= 1\n",
      " 0 <= x2 <= 1\n",
      " 0 <= x3 <= 1\n",
      " 0 <= x4 <= 1\n",
      " 0 <= x5 <= 1\n",
      " 0 <= x6 <= 1\n",
      " 0 <= x7 <= 1\n",
      " 0 <= x8 <= 1\n",
      " 0 <= x9 <= 1\n",
      " 0 <= x10 <= 1\n",
      " 0 <= x11 <= 1\n",
      " 0 <= x12 <= 1\n",
      " 0 <= x13 <= 1\n",
      " 0 <= x14 <= 1\n",
      " 0 <= x15 <= 1\n",
      " 0 <= x16 <= 1\n",
      " 0 <= x17 <= 1\n",
      "\n",
      "Binaries\n",
      " x1 x2 x3 x4 x5 x6 x7 x8 x9 x10 x11 x12 x13 x14 x15 x16 x17\n",
      "End\n",
      "\n",
      "objective function value: -12118.0\n",
      "variable values: x0=0.0, x1=0.0, x2=0.0, x3=1.0, x4=1.0, x5=0.0, x6=0.0, x7=0.0, x8=1.0, x9=1.0, x10=0.0, x11=0.0, x12=1.0, x13=1.0, x14=1.0, x15=1.0, x16=0.0\n",
      "status: SUCCESS\n"
     ]
    }
   ],
   "source": [
    "\n",
    "# Generate a graph of 4 nodes, 4 edges\n",
    "n = len(G_integer.nodes())\n",
    "edges = list(G_integer.edges(data=True))  # ('node_i', 'node_j', {'capacity': cap})\n",
    "\n",
    "# Formulate the problem as a Docplex model\n",
    "model_logismos2d = Model()\n",
    "\n",
    "# Create n binary variables\n",
    "x = model_logismos2d.binary_var_list(n)\n",
    "\n",
    "# Define the objective function QUBO to be MINIMIZED\n",
    "KRAUSS_MODEL = True # add a last term for source and sink nodes\n",
    "if KRAUSS_MODEL:\n",
    "    model_logismos2d.minimize(\n",
    "        model_logismos2d.sum(w.get('capacity') * (x[int(i)-1]*x[int(i)-1] - x[int(i)-1]*x[int(j)-1]) for i, j, w in edges) +\n",
    "        (total_capacity +1)*(-x[S-1]*x[S-1] + x[S-1]*x[T-1])\n",
    "    )\n",
    "else:\n",
    "    # fixed source and sink nodes and sink nodes\n",
    "    model_logismos2d.minimize(\n",
    "        model_logismos2d.sum(w.get('capacity') * (x[int(i)-1]*x[int(i)-1] - x[int(i)-1]*x[int(j)-1]) for i, j, w in edges)\n",
    "    )\n",
    "    model_logismos2d.add(x[S-1] == 1)\n",
    "    model_logismos2d.add(x[T-1] == 0)\n",
    "\n",
    "\n",
    "print(model_logismos2d.export_as_lp_string())\n",
    "\n",
    "# Convert the Docplex model into a `QuadraticProgram` object\n",
    "problem = from_docplex_mp(model_logismos2d)\n",
    "\n",
    "# Run quantum algorithm QAOA on qasm simulator\n",
    "seed = 1234\n",
    "algorithm_globals.random_seed = seed\n",
    "\n",
    "spsa = SPSA(maxiter=250)\n",
    "sampler = Sampler()\n",
    "qaoa = QAOA(sampler=sampler, optimizer=spsa, reps=5)\n",
    "algorithm = MinimumEigenOptimizer(qaoa)\n",
    "result = algorithm.solve(problem)\n",
    "print(result.prettyprint())  # prints solution, x=[1, 0, 1, 0], the cost, fval=4"
   ]
  },
  {
   "cell_type": "code",
   "execution_count": 42,
   "metadata": {
    "ExecuteTime": {
     "start_time": "2023-04-11T17:34:13.400750Z",
     "end_time": "2023-04-11T17:34:13.415155Z"
    }
   },
   "outputs": [],
   "source": [
    "result.prettyprint()\n",
    "\n",
    "# save model_logismos2d to file\n",
    "with open('/nfs/s-iibi60/users/nale/iiai-projects/quantum-graph-remote/model_logismos2d.lp', 'w') as f:\n",
    "    f.write(model_logismos2d.export_as_lp_string())"
   ]
  },
  {
   "cell_type": "code",
   "execution_count": 44,
   "outputs": [
    {
     "ename": "QiskitOptimizationError",
     "evalue": "'The model is not compatible: '",
     "output_type": "error",
     "traceback": [
      "\u001B[0;31m---------------------------------------------------------------------------\u001B[0m",
      "\u001B[0;31mQiskitOptimizationError\u001B[0m                   Traceback (most recent call last)",
      "Input \u001B[0;32mIn [44]\u001B[0m, in \u001B[0;36m<cell line: 2>\u001B[0;34m()\u001B[0m\n\u001B[1;32m      2\u001B[0m \u001B[38;5;28;01mwith\u001B[39;00m \u001B[38;5;28mopen\u001B[39m(\u001B[38;5;124m'\u001B[39m\u001B[38;5;124m/nfs/s-iibi60/users/nale/iiai-projects/quantum-graph-remote/model_logismos2d.lp\u001B[39m\u001B[38;5;124m'\u001B[39m, \u001B[38;5;124m'\u001B[39m\u001B[38;5;124mr\u001B[39m\u001B[38;5;124m'\u001B[39m) \u001B[38;5;28;01mas\u001B[39;00m f:\n\u001B[1;32m      3\u001B[0m     model_logismos2d \u001B[38;5;241m=\u001B[39m f\u001B[38;5;241m.\u001B[39mread()\n\u001B[0;32m----> 4\u001B[0m     qiskit_model_logismos2d \u001B[38;5;241m=\u001B[39m \u001B[43mfrom_docplex_mp\u001B[49m\u001B[43m(\u001B[49m\u001B[43mf\u001B[49m\u001B[38;5;241;43m.\u001B[39;49m\u001B[43mread\u001B[49m\u001B[43m(\u001B[49m\u001B[43m)\u001B[49m\u001B[43m)\u001B[49m\n",
      "File \u001B[0;32m~/.conda/envs/quantum-py38/lib/python3.8/site-packages/qiskit_optimization/translators/docplex_mp.py:402\u001B[0m, in \u001B[0;36mfrom_docplex_mp\u001B[0;34m(model, indicator_big_m)\u001B[0m\n\u001B[1;32m    380\u001B[0m \u001B[38;5;124;03m\"\"\"Translate a docplex.mp model into a quadratic program.\u001B[39;00m\n\u001B[1;32m    381\u001B[0m \n\u001B[1;32m    382\u001B[0m \u001B[38;5;124;03mNote that this supports the following features of docplex:\u001B[39;00m\n\u001B[0;32m   (...)\u001B[0m\n\u001B[1;32m    399\u001B[0m \u001B[38;5;124;03m    QiskitOptimizationError: if the model contains unsupported elements.\u001B[39;00m\n\u001B[1;32m    400\u001B[0m \u001B[38;5;124;03m\"\"\"\u001B[39;00m\n\u001B[1;32m    401\u001B[0m \u001B[38;5;28;01mif\u001B[39;00m \u001B[38;5;129;01mnot\u001B[39;00m \u001B[38;5;28misinstance\u001B[39m(model, Model):\n\u001B[0;32m--> 402\u001B[0m     \u001B[38;5;28;01mraise\u001B[39;00m QiskitOptimizationError(\u001B[38;5;124mf\u001B[39m\u001B[38;5;124m\"\u001B[39m\u001B[38;5;124mThe model is not compatible: \u001B[39m\u001B[38;5;132;01m{\u001B[39;00mmodel\u001B[38;5;132;01m}\u001B[39;00m\u001B[38;5;124m\"\u001B[39m)\n\u001B[1;32m    404\u001B[0m \u001B[38;5;28;01mif\u001B[39;00m model\u001B[38;5;241m.\u001B[39mnumber_of_user_cut_constraints \u001B[38;5;241m>\u001B[39m \u001B[38;5;241m0\u001B[39m:\n\u001B[1;32m    405\u001B[0m     \u001B[38;5;28;01mraise\u001B[39;00m QiskitOptimizationError(\u001B[38;5;124m\"\u001B[39m\u001B[38;5;124mUser cut constraints are not supported\u001B[39m\u001B[38;5;124m\"\u001B[39m)\n",
      "\u001B[0;31mQiskitOptimizationError\u001B[0m: 'The model is not compatible: '"
     ]
    }
   ],
   "source": [
    "# load model_logismos2d from file\n",
    "with open('/nfs/s-iibi60/users/nale/iiai-projects/quantum-graph-remote/model_logismos2d.lp', 'r') as f:\n",
    "    model_logismos2d = f.read()\n",
    "    qiskit_model_logismos2d = from_docplex_mp(f.read())"
   ],
   "metadata": {
    "collapsed": false
   }
  },
  {
   "cell_type": "code",
   "execution_count": null,
   "outputs": [],
   "source": [],
   "metadata": {
    "collapsed": false
   }
  },
  {
   "cell_type": "code",
   "execution_count": 37,
   "metadata": {
    "ExecuteTime": {
     "start_time": "2023-04-11T17:32:16.010387Z",
     "end_time": "2023-04-11T17:32:16.053044Z"
    }
   },
   "outputs": [
    {
     "name": "stdout",
     "output_type": "stream",
     "text": [
      "<class 'qiskit_optimization.problems.quadratic_program.QuadraticProgram'>\n",
      "\n",
      "Problem name: docplex_model5\n",
      "\n",
      "Minimize\n",
      "  1010*x0^2 - 500*x0*x1 - 10*x0*x16 - 500*x0*x7 + 1010*x1^2 - 10*x1*x16\n",
      "  - 500*x1*x2 - 500*x1*x8 + 1010*x10^2 - 500*x10*x11 - 10*x10*x16 + 1001*x11^2\n",
      "  - 500*x11*x12 - x11*x16 + 1000*x12^2 - 500*x12*x13 - 16*x12*x15 + 503*x13^2\n",
      "  - 500*x13*x14 - 3*x13*x16 - x14*x15 - 12076*x15^2 + 12121*x15*x16 - 18*x2*x16\n",
      "  + 1018*x2^2 - 500*x2*x3 - 500*x2*x5 - 500*x2*x9 - 13*x3*x15 + 500*x3^2\n",
      "  - 500*x3*x4 - 500*x3*x6 - x4*x15 - 500*x4*x7 - 500*x5*x12 - 5*x5*x16\n",
      "  + 1505*x5^2 - 500*x5*x6 - 500*x6*x13 - x6*x16 + 1501*x6^2 - 500*x6*x7\n",
      "  - 500*x7*x10 - 500*x7*x14 - 17*x7*x16 + 1517*x7^2 - 500*x7*x8 - 500*x8*x11\n",
      "  - 13*x8*x15 + 500*x8^2 - 500*x8*x9 - 500*x9*x12 - x9*x15\n",
      "\n",
      "Subject to\n",
      "  No constraints\n",
      "\n",
      "  Binary variables (17)\n",
      "    x0 x1 x2 x3 x4 x5 x6 x7 x8 x9 x10 x11 x12 x13 x14 x15 x16\n",
      "\n"
     ]
    }
   ],
   "source": [
    "qiskit_model_logismos2d = from_docplex_mp(model_logismos2d)\n",
    "print(type(qiskit_model_logismos2d))\n",
    "print()\n",
    "print(qiskit_model_logismos2d.prettyprint())"
   ]
  },
  {
   "cell_type": "code",
   "execution_count": 40,
   "metadata": {
    "ExecuteTime": {
     "start_time": "2023-04-11T17:32:55.353265Z",
     "end_time": "2023-04-11T17:32:55.581657Z"
    }
   },
   "outputs": [
    {
     "name": "stdout",
     "output_type": "stream",
     "text": [
      "Offset: -0.25\n",
      "Ising Hamiltonian:\n",
      "-252.5 * IIIIIIIIIIIIIIIIZ\n",
      "- 125.0 * IIIIIIIIIIIIIIIZZ\n",
      "- 127.5 * IIIIIIIIIIIIIIIZI\n",
      "- 125.0 * IIIIIIIIIIIIIIZZI\n",
      "- 4.5 * IIIIIIIIIIIIIIZII\n",
      "- 125.0 * IIIIIIIIIIIIIZZII\n",
      "+ 128.25 * IIIIIIIIIIIIIZIII\n",
      "- 125.0 * IIIIIIIIIIIIZZIII\n",
      "+ 250.25 * IIIIIIIIIIIIZIIII\n",
      "- 125.0 * IIIIIIIIIIIZIIZII\n",
      "- 376.25 * IIIIIIIIIIIZIIIII\n",
      "- 125.0 * IIIIIIIIIIZIIZIII\n",
      "- 250.25 * IIIIIIIIIIZIIIIII\n",
      "- 125.0 * IIIIIIIIIIZZIIIII\n",
      "- 125.0 * IIIIIIIIIZIIIIIIZ\n",
      "- 4.25 * IIIIIIIIIZIIIIIII\n",
      "- 125.0 * IIIIIIIIIZIIZIIII\n",
      "- 125.0 * IIIIIIIIIZZIIIIII\n",
      "- 125.0 * IIIIIIIIZIIIIIIZI\n",
      "+ 253.25 * IIIIIIIIZIIIIIIII\n",
      "- 125.0 * IIIIIIIIZZIIIIIII\n",
      "- 125.0 * IIIIIIIZIIIIIIZII\n",
      "+ 375.25 * IIIIIIIZIIIIIIIII\n",
      "- 125.0 * IIIIIIIZZIIIIIIII\n",
      "- 125.0 * IIIIIIZIIZIIIIIII\n",
      "- 252.5 * IIIIIIZIIIIIIIIII\n",
      "- 125.0 * IIIIIZIIZIIIIIIII\n",
      "- 125.25 * IIIIIZIIIIIIIIIII\n",
      "- 125.0 * IIIIIZZIIIIIIIIII\n",
      "- 125.0 * IIIIZIIIIIIZIIIII\n",
      "+ 4.0 * IIIIZIIIIIIIIIIII\n",
      "- 125.0 * IIIIZIIZIIIIIIIII\n",
      "- 125.0 * IIIIZZIIIIIIIIIII\n",
      "- 125.0 * IIIZIIIIIIZIIIIII\n",
      "+ 124.25 * IIIZIIIIIIIIIIIII\n",
      "- 125.0 * IIIZZIIIIIIIIIIII\n",
      "- 125.0 * IIZIIIIIIZIIIIIII\n",
      "+ 250.25 * IIZIIIIIIIIIIIIII\n",
      "- 125.0 * IIZZIIIIIIIIIIIII\n",
      "- 3.25 * IZIIIIIIIIIIIZIII\n",
      "+ 3019.0 * IZIIIIIIIIIIIIIII\n",
      "- 0.25 * IZIIIIIIIIIIZIIII\n",
      "- 3.25 * IZIIIIIIZIIIIIIII\n",
      "- 0.25 * IZIIIIIZIIIIIIIII\n",
      "- 4.0 * IZIIZIIIIIIIIIIII\n",
      "- 0.25 * IZZIIIIIIIIIIIIII\n",
      "- 2.5 * ZIIIIIIIIIIIIIIIZ\n",
      "- 3011.5 * ZIIIIIIIIIIIIIIII\n",
      "- 2.5 * ZIIIIIIIIIIIIIIZI\n",
      "- 4.5 * ZIIIIIIIIIIIIIZII\n",
      "- 1.25 * ZIIIIIIIIIIZIIIII\n",
      "- 0.25 * ZIIIIIIIIIZIIIIII\n",
      "- 4.25 * ZIIIIIIIIZIIIIIII\n",
      "- 2.5 * ZIIIIIZIIIIIIIIII\n",
      "- 0.25 * ZIIIIZIIIIIIIIIII\n",
      "- 0.75 * ZIIZIIIIIIIIIIIII\n",
      "+ 3030.25 * ZZIIIIIIIIIIIIIII\n"
     ]
    }
   ],
   "source": [
    "qubitOp, offset = qiskit_model_logismos2d.to_ising()\n",
    "print(\"Offset:\", offset)\n",
    "print(\"Ising Hamiltonian:\")\n",
    "print(str(qubitOp))\n"
   ]
  },
  {
   "cell_type": "code",
   "execution_count": 41,
   "metadata": {
    "ExecuteTime": {
     "start_time": "2023-04-11T17:33:34.086063Z",
     "end_time": "2023-04-11T17:33:34.340239Z"
    }
   },
   "outputs": [
    {
     "name": "stdout",
     "output_type": "stream",
     "text": [
      "/nfs/s-iibi60/users/nale/iiai-projects/quantum-graph-remote\r\n"
     ]
    }
   ],
   "source": [
    "!pwd"
   ]
  },
  {
   "cell_type": "code",
   "execution_count": null,
   "metadata": {},
   "outputs": [],
   "source": []
  },
  {
   "cell_type": "markdown",
   "source": [
    "# QuadraticProgram and Ising Hamiltonian"
   ],
   "metadata": {
    "collapsed": false
   }
  },
  {
   "cell_type": "code",
   "execution_count": 6,
   "outputs": [
    {
     "name": "stdout",
     "output_type": "stream",
     "text": [
      "\\ This file has been generated by DOcplex\n",
      "\\ ENCODING=ISO-8859-1\n",
      "\\Problem name: docplex model\n",
      "\n",
      "Minimize\n",
      " obj: [ - 4 x*y ]/2\n",
      "Subject To\n",
      "\n",
      "Bounds\n",
      " 0 <= x <= 1\n",
      " 0 <= y <= 1\n",
      "\n",
      "Binaries\n",
      " x y\n",
      "End\n",
      "\n"
     ]
    }
   ],
   "source": [
    "\n",
    "# Make a Docplex model\n",
    "from docplex.mp.model import Model\n",
    "\n",
    "mdl = Model(\"docplex model\")\n",
    "x = mdl.binary_var(\"x\")\n",
    "y = mdl.binary_var(\"y\")\n",
    "mdl.minimize(-2 * x * y)\n",
    "\n",
    "print(mdl.export_as_lp_string())"
   ],
   "metadata": {
    "collapsed": false,
    "ExecuteTime": {
     "start_time": "2023-04-25T15:39:26.776638Z",
     "end_time": "2023-04-25T15:39:27.119018Z"
    }
   }
  },
  {
   "cell_type": "code",
   "execution_count": 7,
   "outputs": [
    {
     "name": "stdout",
     "output_type": "stream",
     "text": [
      "<class 'qiskit_optimization.problems.quadratic_program.QuadraticProgram'>\n",
      "\n",
      "Problem name: docplex model\n",
      "\n",
      "Minimize\n",
      "  -2*x*y\n",
      "\n",
      "Subject to\n",
      "  No constraints\n",
      "\n",
      "  Binary variables (2)\n",
      "    x y\n",
      "\n"
     ]
    }
   ],
   "source": [
    "# load from a Docplex model to QuadraticProgram\n",
    "mod = from_docplex_mp(mdl)\n",
    "print(type(mod))\n",
    "print()\n",
    "print(mod.prettyprint())"
   ],
   "metadata": {
    "collapsed": false,
    "ExecuteTime": {
     "start_time": "2023-04-25T15:39:31.383107Z",
     "end_time": "2023-04-25T15:39:31.402159Z"
    }
   }
  },
  {
   "cell_type": "code",
   "execution_count": 8,
   "outputs": [
    {
     "name": "stdout",
     "output_type": "stream",
     "text": [
      "offset: -0.5\n",
      "operator:\n",
      "-0.5 * ZZ\n",
      "+ 0.5 * IZ\n",
      "+ 0.5 * ZI\n"
     ]
    }
   ],
   "source": [
    "\n",
    "op, offset = mod.to_ising()\n",
    "print(\"offset: {}\".format(offset))\n",
    "print(\"operator:\")\n",
    "print(op)"
   ],
   "metadata": {
    "collapsed": false,
    "ExecuteTime": {
     "start_time": "2023-04-25T15:39:32.327130Z",
     "end_time": "2023-04-25T15:39:32.348111Z"
    }
   }
  },
  {
   "cell_type": "code",
   "execution_count": 4,
   "metadata": {
    "ExecuteTime": {
     "start_time": "2023-04-25T15:39:20.557239Z",
     "end_time": "2023-04-25T15:39:20.693862Z"
    }
   },
   "outputs": [],
   "source": [
    "# pauli z\n",
    "pauli_z = np.array([[1, 0], [0, -1]])\n",
    "# pauli x\n",
    "pauli_x = np.array([[0, 1], [1, 0]])\n",
    "# identity\n",
    "id2 = np.eye(2)"
   ]
  },
  {
   "cell_type": "code",
   "execution_count": 16,
   "metadata": {
    "ExecuteTime": {
     "start_time": "2023-04-25T15:50:10.204275Z",
     "end_time": "2023-04-25T15:50:10.329504Z"
    }
   },
   "outputs": [
    {
     "data": {
      "text/plain": "array([[ 0.,  0.,  0.,  0.],\n       [ 0.,  0.,  0.,  0.],\n       [ 0.,  0.,  0.,  0.],\n       [ 0.,  0.,  0., -2.]])"
     },
     "execution_count": 16,
     "metadata": {},
     "output_type": "execute_result"
    }
   ],
   "source": [
    "H2 = -0.5*np.kron(pauli_z, pauli_z) + 0.5*np.kron(id2, pauli_z) + 0.5*np.kron(pauli_z, id2) + np.diag(offset*np.ones(4))\n",
    "H2"
   ]
  },
  {
   "cell_type": "code",
   "execution_count": 43,
   "outputs": [
    {
     "name": "stdout",
     "output_type": "stream",
     "text": [
      "Min is -2.0\n",
      "Max is 0.0\n",
      "Max is 0.0\n",
      "Max is 0.0\n"
     ]
    }
   ],
   "source": [
    "state_00 = np.array([[1], [0], [0], [0]])\n",
    "state_01 = np.array([[0], [1], [0], [0]])\n",
    "state_10 = np.array([[0], [0], [1], [0]])\n",
    "state_11 = np.array([[0], [0], [0], [1]])\n",
    "\n",
    "input = state_11\n",
    "result = (input.T * H2 * input).sum()\n",
    "print('Min is', result)\n",
    "\n",
    "print('Max is', (state_00.T * H2 * input).sum())\n",
    "print('Max is', (state_01.T * H2 * input).sum())\n",
    "print('Max is', (state_10.T * H2 * input).sum())\n"
   ],
   "metadata": {
    "collapsed": false,
    "ExecuteTime": {
     "start_time": "2023-04-25T16:16:26.494260Z",
     "end_time": "2023-04-25T16:16:26.509094Z"
    }
   }
  },
  {
   "cell_type": "code",
   "execution_count": 44,
   "outputs": [
    {
     "name": "stdout",
     "output_type": "stream",
     "text": [
      "Min is [[-2.]]\n"
     ]
    }
   ],
   "source": [
    "result = np.dot(np.transpose(input), np.dot(H2, input))\n",
    "print('Min is', result)"
   ],
   "metadata": {
    "collapsed": false,
    "ExecuteTime": {
     "start_time": "2023-04-25T16:17:42.841602Z",
     "end_time": "2023-04-25T16:17:42.968005Z"
    }
   }
  },
  {
   "cell_type": "code",
   "execution_count": null,
   "outputs": [],
   "source": [],
   "metadata": {
    "collapsed": false
   }
  },
  {
   "cell_type": "code",
   "execution_count": null,
   "outputs": [],
   "source": [],
   "metadata": {
    "collapsed": false
   }
  },
  {
   "cell_type": "code",
   "execution_count": null,
   "outputs": [],
   "source": [],
   "metadata": {
    "collapsed": false
   }
  },
  {
   "cell_type": "code",
   "execution_count": null,
   "outputs": [],
   "source": [],
   "metadata": {
    "collapsed": false
   }
  },
  {
   "cell_type": "code",
   "execution_count": null,
   "outputs": [],
   "source": [],
   "metadata": {
    "collapsed": false
   }
  },
  {
   "cell_type": "code",
   "execution_count": null,
   "outputs": [],
   "source": [],
   "metadata": {
    "collapsed": false
   }
  },
  {
   "cell_type": "code",
   "execution_count": null,
   "outputs": [],
   "source": [],
   "metadata": {
    "collapsed": false
   }
  }
 ],
 "metadata": {
  "kernelspec": {
   "display_name": "Python 3 (ipykernel)",
   "language": "python",
   "name": "python3"
  },
  "language_info": {
   "codemirror_mode": {
    "name": "ipython",
    "version": 3
   },
   "file_extension": ".py",
   "mimetype": "text/x-python",
   "name": "python",
   "nbconvert_exporter": "python",
   "pygments_lexer": "ipython3",
   "version": "3.8.12"
  }
 },
 "nbformat": 4,
 "nbformat_minor": 1
}
