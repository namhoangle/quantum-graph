{
 "cells": [
  {
   "cell_type": "markdown",
   "source": [
    "# 1. Simple graph"
   ],
   "metadata": {
    "collapsed": false
   }
  },
  {
   "cell_type": "markdown",
   "source": [
    "# Define a TOTAL Hamiltonian: H_p"
   ],
   "metadata": {
    "collapsed": false
   }
  },
  {
   "cell_type": "markdown",
   "source": [
    "First, given a series of Hamiltonian H1, H2, H3, a TOTAL H is defined as\n",
    "\n",
    "H = c1 * H1 + c2 * H2 + c3 * H3\n",
    "\n",
    "if H1, H2, H3 are all Pauli operators, then H is"
   ],
   "metadata": {
    "collapsed": false
   }
  },
  {
   "cell_type": "code",
   "execution_count": 27,
   "metadata": {
    "collapsed": true
   },
   "outputs": [
    {
     "name": "stdout",
     "output_type": "stream",
     "text": [
      "  (1) [X0]\n",
      "+ (1) [Z1]\n",
      "+ (0.5) [X0 X1]\n"
     ]
    }
   ],
   "source": [
    "import pennylane as qml\n",
    "\n",
    "H = qml.Hamiltonian(\n",
    "    [1, 1, 0.5],\n",
    "    [qml.PauliX(0), qml.PauliZ(1), qml.PauliX(0) @ qml.PauliX(1)]\n",
    ")\n",
    "print(H)\n"
   ]
  },
  {
   "cell_type": "markdown",
   "source": [
    "# Define a circuit based on H_p"
   ],
   "metadata": {
    "collapsed": false
   }
  },
  {
   "cell_type": "markdown",
   "source": [
    "Here, pennylane allows convert from Hamiltonian to qubit operator directly, using Trotter-Suzuki decomposition.\n",
    "The resulting circuit is a time evolution operator U(H) with the Trotter-Suzuki decomposition, and contains only pauli gates.\n",
    "here choose n=2"
   ],
   "metadata": {
    "collapsed": false
   }
  },
  {
   "cell_type": "markdown",
   "source": [
    "n=1"
   ],
   "metadata": {
    "collapsed": false
   }
  },
  {
   "cell_type": "code",
   "execution_count": 28,
   "outputs": [
    {
     "name": "stdout",
     "output_type": "stream",
     "text": [
      "0: ──RX(1.00)─╭RXX(0.50)──RX(1.00)─╭RXX(0.50)─┤  <Z>\n",
      "1: ──RZ(1.00)─╰RXX(0.50)──RZ(1.00)─╰RXX(0.50)─┤  <Z>\n"
     ]
    }
   ],
   "source": [
    "\n",
    "# First define a device with 2 qubits\n",
    "wires = 2\n",
    "dev = qml.device(name='default.qubit', wires=wires)\n",
    "\n",
    "# Define the time evolution operator U(H) with the Trotter-Suzuki decomposition\n",
    "t = 1 # parameter t in the time evolution operator\n",
    "n = 2 # choose n = 2, larger n gives better approximation\n",
    "\n",
    "@qml.qnode(dev)\n",
    "def circuit():\n",
    "    qml.ApproxTimeEvolution(hamiltonian=H, time=t, n=n)\n",
    "    return [qml.expval(qml.PauliZ(i)) for i in range(wires)]    # get expectation values of PauliZ for each qubit\n",
    "\n",
    "print(qml.draw(qnode=circuit, expansion_strategy='device')())"
   ],
   "metadata": {
    "collapsed": false
   }
  },
  {
   "cell_type": "markdown",
   "source": [
    "n=2"
   ],
   "metadata": {
    "collapsed": false
   }
  },
  {
   "cell_type": "code",
   "execution_count": 3,
   "outputs": [
    {
     "name": "stdout",
     "output_type": "stream",
     "text": [
      "0: ──RX(1.00)─╭RXX(0.50)──RX(1.00)─╭RXX(0.50)─┤  <Z>\n",
      "1: ──RZ(1.00)─╰RXX(0.50)──RZ(1.00)─╰RXX(0.50)─┤  <Z>\n"
     ]
    }
   ],
   "source": [
    "\n",
    "# First define a device with 2 qubits\n",
    "wires = 2\n",
    "dev = qml.device(name='default.qubit', wires=wires)\n",
    "\n",
    "# Define the time evolution operator U(H) with the Trotter-Suzuki decomposition\n",
    "t = 1 # parameter t in the time evolution operator\n",
    "n = 2 # choose n = 2, larger n gives better approximation\n",
    "\n",
    "@qml.qnode(dev)\n",
    "def circuit():\n",
    "    qml.ApproxTimeEvolution(hamiltonian=H, time=t, n=n)\n",
    "    return [qml.expval(qml.PauliZ(i)) for i in range(wires)]    # get expectation values of PauliZ for each qubit\n",
    "\n",
    "print(qml.draw(qnode=circuit, expansion_strategy='device')())"
   ],
   "metadata": {
    "collapsed": false
   }
  },
  {
   "cell_type": "code",
   "execution_count": 4,
   "outputs": [
    {
     "name": "stdout",
     "output_type": "stream",
     "text": [
      "0: ──RX(0.50)─╭●─┤  <Z>\n",
      "1: ──H────────╰X─┤  <Z>\n"
     ]
    }
   ],
   "source": [
    "def circ(theta):\n",
    "    qml.RX(theta, wires=0)\n",
    "    qml.Hadamard(wires=1)\n",
    "    qml.CNOT(wires=[0, 1])\n",
    "\n",
    "@qml.qnode(dev)\n",
    "def circuit(param):\n",
    "    circ(param)\n",
    "    return [qml.expval(qml.PauliZ(i)) for i in range(2)]\n",
    "\n",
    "print(qml.draw(circuit)(0.5))"
   ],
   "metadata": {
    "collapsed": false
   }
  },
  {
   "cell_type": "code",
   "execution_count": 5,
   "outputs": [
    {
     "name": "stdout",
     "output_type": "stream",
     "text": [
      "0: ──RX(0.30)─╭●──RX(0.40)─╭●──RX(0.50)─╭●─┤  <Z>\n",
      "1: ──H────────╰X──H────────╰X──H────────╰X─┤  <Z>\n"
     ]
    }
   ],
   "source": [
    "@qml.qnode(dev)\n",
    "def circuit(params, **kwargs):\n",
    "    qml.layer(circ, 3, params)\n",
    "    return [qml.expval(qml.PauliZ(i)) for i in range(2)]\n",
    "\n",
    "print(qml.draw(circuit)([0.3, 0.4, 0.5]))"
   ],
   "metadata": {
    "collapsed": false
   }
  },
  {
   "cell_type": "code",
   "execution_count": null,
   "outputs": [],
   "source": [],
   "metadata": {
    "collapsed": false
   }
  },
  {
   "cell_type": "code",
   "execution_count": null,
   "outputs": [],
   "source": [],
   "metadata": {
    "collapsed": false
   }
  },
  {
   "cell_type": "code",
   "execution_count": null,
   "outputs": [],
   "source": [],
   "metadata": {
    "collapsed": false
   }
  },
  {
   "cell_type": "markdown",
   "source": [
    "# Define a graph which is a direct mapping of an image"
   ],
   "metadata": {
    "collapsed": false
   }
  },
  {
   "cell_type": "code",
   "execution_count": 6,
   "outputs": [],
   "source": [
    "from pennylane import qaoa\n",
    "from pennylane import numpy as np\n",
    "from matplotlib import pyplot as plt\n",
    "import networkx as nx"
   ],
   "metadata": {
    "collapsed": false
   }
  },
  {
   "cell_type": "code",
   "execution_count": 7,
   "outputs": [
    {
     "data": {
      "text/plain": "<Figure size 432x288 with 1 Axes>",
      "image/png": "[encoded data removed]"
     },
     "metadata": {},
     "output_type": "display_data"
    }
   ],
   "source": [
    "edges = [(0, 1), (1, 2), (2, 0), (2, 3)]\n",
    "graph = nx.Graph(edges)\n",
    "\n",
    "nx.draw(graph, with_labels=True)\n",
    "plt.show()"
   ],
   "metadata": {
    "collapsed": false
   }
  },
  {
   "cell_type": "code",
   "execution_count": null,
   "outputs": [],
   "source": [],
   "metadata": {
    "collapsed": false
   }
  },
  {
   "cell_type": "markdown",
   "source": [
    "# Define a Hamiltonian H_p based on the graph and given task"
   ],
   "metadata": {
    "collapsed": false
   }
  },
  {
   "cell_type": "code",
   "execution_count": 29,
   "outputs": [
    {
     "ename": "TypeError",
     "evalue": "maxcut() got an unexpected keyword argument 'constrained'",
     "output_type": "error",
     "traceback": [
      "\u001B[0;31m---------------------------------------------------------------------------\u001B[0m",
      "\u001B[0;31mTypeError\u001B[0m                                 Traceback (most recent call last)",
      "Input \u001B[0;32mIn [29]\u001B[0m, in \u001B[0;36m<cell line: 1>\u001B[0;34m()\u001B[0m\n\u001B[0;32m----> 1\u001B[0m cost_h, mixer_h \u001B[38;5;241m=\u001B[39m \u001B[43mqaoa\u001B[49m\u001B[38;5;241;43m.\u001B[39;49m\u001B[43mmaxcut\u001B[49m\u001B[43m(\u001B[49m\u001B[43mgraph\u001B[49m\u001B[43m,\u001B[49m\u001B[43m \u001B[49m\u001B[43mconstrained\u001B[49m\u001B[38;5;241;43m=\u001B[39;49m\u001B[38;5;28;43;01mFalse\u001B[39;49;00m\u001B[43m)\u001B[49m\n\u001B[1;32m      3\u001B[0m \u001B[38;5;28mprint\u001B[39m(\u001B[38;5;124m\"\u001B[39m\u001B[38;5;124mCost Hamiltonian\u001B[39m\u001B[38;5;124m\"\u001B[39m, cost_h)\n\u001B[1;32m      4\u001B[0m \u001B[38;5;28mprint\u001B[39m(\u001B[38;5;124m\"\u001B[39m\u001B[38;5;124mMixer Hamiltonian\u001B[39m\u001B[38;5;124m\"\u001B[39m, mixer_h)\n",
      "\u001B[0;31mTypeError\u001B[0m: maxcut() got an unexpected keyword argument 'constrained'"
     ]
    }
   ],
   "source": [
    "cost_h, mixer_h = qaoa.min_vertex_cover(graph, constrained=False)\n",
    "\n",
    "print(\"Cost Hamiltonian\", cost_h)\n",
    "print(\"Mixer Hamiltonian\", mixer_h)"
   ],
   "metadata": {
    "collapsed": false
   }
  },
  {
   "cell_type": "markdown",
   "source": [
    "# Define a circuit based on H_p"
   ],
   "metadata": {
    "collapsed": false
   }
  },
  {
   "cell_type": "code",
   "execution_count": 9,
   "outputs": [],
   "source": [
    "def qaoa_layer(gamma, alpha):\n",
    "    \"\"\"\n",
    "    Building blocks of the QAOA ansatz.\n",
    "    :param gamma: variational parameter for cost layer\n",
    "    :param alpha: variational parameter for mixer layer\n",
    "    :return:\n",
    "    \"\"\"\n",
    "    qaoa.cost_layer(gamma, cost_h)\n",
    "    qaoa.mixer_layer(alpha, mixer_h)"
   ],
   "metadata": {
    "collapsed": false
   }
  },
  {
   "cell_type": "code",
   "execution_count": 10,
   "outputs": [],
   "source": [
    "wires = range(4)\n",
    "depth = 2\n",
    "\n",
    "def circuit(params, **kwargs):\n",
    "    for w in wires:\n",
    "        qml.Hadamard(wires=w)\n",
    "    qml.layer(qaoa_layer, depth, params[0], params[1])"
   ],
   "metadata": {
    "collapsed": false
   }
  },
  {
   "cell_type": "code",
   "execution_count": 13,
   "outputs": [
    {
     "ename": "TypeError",
     "evalue": "cost_function() missing 1 required positional argument: 'params'",
     "output_type": "error",
     "traceback": [
      "\u001B[0;31m---------------------------------------------------------------------------\u001B[0m",
      "\u001B[0;31mTypeError\u001B[0m                                 Traceback (most recent call last)",
      "Input \u001B[0;32mIn [13]\u001B[0m, in \u001B[0;36m<cell line: 8>\u001B[0;34m()\u001B[0m\n\u001B[1;32m      5\u001B[0m     circuit(params)\n\u001B[1;32m      6\u001B[0m     \u001B[38;5;28;01mreturn\u001B[39;00m qml\u001B[38;5;241m.\u001B[39mexpval(cost_h)\n\u001B[0;32m----> 8\u001B[0m \u001B[38;5;28mprint\u001B[39m(\u001B[43mqml\u001B[49m\u001B[38;5;241;43m.\u001B[39;49m\u001B[43mdraw\u001B[49m\u001B[43m(\u001B[49m\u001B[43mcost_function\u001B[49m\u001B[43m)\u001B[49m\u001B[43m(\u001B[49m\u001B[43m)\u001B[49m)\n",
      "File \u001B[0;32m~/.conda/envs/quantum-py38/lib/python3.8/site-packages/pennylane/drawer/draw.py:190\u001B[0m, in \u001B[0;36mdraw.<locals>.wrapper\u001B[0;34m(*args, **kwargs)\u001B[0m\n\u001B[1;32m    188\u001B[0m \u001B[38;5;28;01mtry\u001B[39;00m:\n\u001B[1;32m    189\u001B[0m     qnode\u001B[38;5;241m.\u001B[39mexpansion_strategy \u001B[38;5;241m=\u001B[39m expansion_strategy \u001B[38;5;129;01mor\u001B[39;00m original_expansion_strategy\n\u001B[0;32m--> 190\u001B[0m     tapes \u001B[38;5;241m=\u001B[39m \u001B[43mqnode\u001B[49m\u001B[38;5;241;43m.\u001B[39;49m\u001B[43mconstruct\u001B[49m\u001B[43m(\u001B[49m\u001B[43margs\u001B[49m\u001B[43m,\u001B[49m\u001B[43m \u001B[49m\u001B[43mkwargs\u001B[49m\u001B[43m)\u001B[49m\n\u001B[1;32m    191\u001B[0m \u001B[38;5;28;01mfinally\u001B[39;00m:\n\u001B[1;32m    192\u001B[0m     qnode\u001B[38;5;241m.\u001B[39mexpansion_strategy \u001B[38;5;241m=\u001B[39m original_expansion_strategy\n",
      "File \u001B[0;32m~/.conda/envs/quantum-py38/lib/python3.8/site-packages/pennylane/qnode.py:711\u001B[0m, in \u001B[0;36mQNode.construct\u001B[0;34m(self, args, kwargs)\u001B[0m\n\u001B[1;32m    708\u001B[0m \u001B[38;5;28;01mdef\u001B[39;00m \u001B[38;5;21mconstruct\u001B[39m(\u001B[38;5;28mself\u001B[39m, args, kwargs):\n\u001B[1;32m    709\u001B[0m     \u001B[38;5;124;03m\"\"\"Call the quantum function with a tape context, ensuring the operations get queued.\"\"\"\u001B[39;00m\n\u001B[0;32m--> 711\u001B[0m     \u001B[38;5;28mself\u001B[39m\u001B[38;5;241m.\u001B[39m_tape \u001B[38;5;241m=\u001B[39m \u001B[43mmake_qscript\u001B[49m\u001B[43m(\u001B[49m\u001B[38;5;28;43mself\u001B[39;49m\u001B[38;5;241;43m.\u001B[39;49m\u001B[43mfunc\u001B[49m\u001B[43m)\u001B[49m\u001B[43m(\u001B[49m\u001B[38;5;241;43m*\u001B[39;49m\u001B[43margs\u001B[49m\u001B[43m,\u001B[49m\u001B[43m \u001B[49m\u001B[38;5;241;43m*\u001B[39;49m\u001B[38;5;241;43m*\u001B[39;49m\u001B[43mkwargs\u001B[49m\u001B[43m)\u001B[49m\n\u001B[1;32m    712\u001B[0m     \u001B[38;5;28mself\u001B[39m\u001B[38;5;241m.\u001B[39m_tape\u001B[38;5;241m.\u001B[39m_queue_category \u001B[38;5;241m=\u001B[39m \u001B[38;5;124m\"\u001B[39m\u001B[38;5;124m_ops\u001B[39m\u001B[38;5;124m\"\u001B[39m\n\u001B[1;32m    713\u001B[0m     \u001B[38;5;28mself\u001B[39m\u001B[38;5;241m.\u001B[39m_qfunc_output \u001B[38;5;241m=\u001B[39m \u001B[38;5;28mself\u001B[39m\u001B[38;5;241m.\u001B[39mtape\u001B[38;5;241m.\u001B[39m_qfunc_output\n",
      "File \u001B[0;32m~/.conda/envs/quantum-py38/lib/python3.8/site-packages/pennylane/tape/qscript.py:1346\u001B[0m, in \u001B[0;36mmake_qscript.<locals>.wrapper\u001B[0;34m(*args, **kwargs)\u001B[0m\n\u001B[1;32m   1344\u001B[0m \u001B[38;5;28;01mdef\u001B[39;00m \u001B[38;5;21mwrapper\u001B[39m(\u001B[38;5;241m*\u001B[39margs, \u001B[38;5;241m*\u001B[39m\u001B[38;5;241m*\u001B[39mkwargs):\n\u001B[1;32m   1345\u001B[0m     \u001B[38;5;28;01mwith\u001B[39;00m AnnotatedQueue() \u001B[38;5;28;01mas\u001B[39;00m q:\n\u001B[0;32m-> 1346\u001B[0m         result \u001B[38;5;241m=\u001B[39m \u001B[43mfn\u001B[49m\u001B[43m(\u001B[49m\u001B[38;5;241;43m*\u001B[39;49m\u001B[43margs\u001B[49m\u001B[43m,\u001B[49m\u001B[43m \u001B[49m\u001B[38;5;241;43m*\u001B[39;49m\u001B[38;5;241;43m*\u001B[39;49m\u001B[43mkwargs\u001B[49m\u001B[43m)\u001B[49m\n\u001B[1;32m   1348\u001B[0m     qscript \u001B[38;5;241m=\u001B[39m QuantumScript\u001B[38;5;241m.\u001B[39mfrom_queue(q)\n\u001B[1;32m   1349\u001B[0m     qscript\u001B[38;5;241m.\u001B[39m_qfunc_output \u001B[38;5;241m=\u001B[39m result\n",
      "\u001B[0;31mTypeError\u001B[0m: cost_function() missing 1 required positional argument: 'params'"
     ]
    }
   ],
   "source": [
    "dev = qml.device(\"qulacs.simulator\", wires=wires)\n",
    "\n",
    "@qml.qnode(dev)\n",
    "def cost_function(params):\n",
    "    circuit(params)\n",
    "    return qml.expval(cost_h)\n",
    "\n",
    "print(qml.draw(cost_function)(0.5))"
   ],
   "metadata": {
    "collapsed": false
   }
  },
  {
   "cell_type": "code",
   "execution_count": 18,
   "outputs": [
    {
     "ename": "AttributeError",
     "evalue": "'NoneType' object has no attribute 'expansion_strategy'",
     "output_type": "error",
     "traceback": [
      "\u001B[0;31m---------------------------------------------------------------------------\u001B[0m",
      "\u001B[0;31mAttributeError\u001B[0m                            Traceback (most recent call last)",
      "File \u001B[0;32m~/.conda/envs/quantum-py38/lib/python3.8/site-packages/pennylane/drawer/draw.py:189\u001B[0m, in \u001B[0;36mdraw.<locals>.wrapper\u001B[0;34m(*args, **kwargs)\u001B[0m\n\u001B[1;32m    188\u001B[0m \u001B[38;5;28;01mtry\u001B[39;00m:\n\u001B[0;32m--> 189\u001B[0m     qnode\u001B[38;5;241m.\u001B[39mexpansion_strategy \u001B[38;5;241m=\u001B[39m expansion_strategy \u001B[38;5;129;01mor\u001B[39;00m original_expansion_strategy\n\u001B[1;32m    190\u001B[0m     tapes \u001B[38;5;241m=\u001B[39m qnode\u001B[38;5;241m.\u001B[39mconstruct(args, kwargs)\n",
      "\u001B[0;31mAttributeError\u001B[0m: 'NoneType' object has no attribute 'expansion_strategy'",
      "\nDuring handling of the above exception, another exception occurred:\n",
      "\u001B[0;31mAttributeError\u001B[0m                            Traceback (most recent call last)",
      "Input \u001B[0;32mIn [18]\u001B[0m, in \u001B[0;36m<cell line: 1>\u001B[0;34m()\u001B[0m\n\u001B[0;32m----> 1\u001B[0m \u001B[38;5;28mprint\u001B[39m(\u001B[43mqml\u001B[49m\u001B[38;5;241;43m.\u001B[39;49m\u001B[43mdraw\u001B[49m\u001B[43m(\u001B[49m\u001B[43mqnode\u001B[49m\u001B[38;5;241;43m=\u001B[39;49m\u001B[43mcircuit\u001B[49m\u001B[43m(\u001B[49m\u001B[43mparams\u001B[49m\u001B[43m)\u001B[49m\u001B[43m,\u001B[49m\u001B[43m \u001B[49m\u001B[43mexpansion_strategy\u001B[49m\u001B[38;5;241;43m=\u001B[39;49m\u001B[38;5;124;43m'\u001B[39;49m\u001B[38;5;124;43mdevice\u001B[39;49m\u001B[38;5;124;43m'\u001B[39;49m\u001B[43m)\u001B[49m\u001B[43m(\u001B[49m\u001B[43m)\u001B[49m)\n",
      "File \u001B[0;32m~/.conda/envs/quantum-py38/lib/python3.8/site-packages/pennylane/drawer/draw.py:192\u001B[0m, in \u001B[0;36mdraw.<locals>.wrapper\u001B[0;34m(*args, **kwargs)\u001B[0m\n\u001B[1;32m    190\u001B[0m     tapes \u001B[38;5;241m=\u001B[39m qnode\u001B[38;5;241m.\u001B[39mconstruct(args, kwargs)\n\u001B[1;32m    191\u001B[0m \u001B[38;5;28;01mfinally\u001B[39;00m:\n\u001B[0;32m--> 192\u001B[0m     qnode\u001B[38;5;241m.\u001B[39mexpansion_strategy \u001B[38;5;241m=\u001B[39m original_expansion_strategy\n\u001B[1;32m    194\u001B[0m _wire_order \u001B[38;5;241m=\u001B[39m wire_order \u001B[38;5;129;01mor\u001B[39;00m qnode\u001B[38;5;241m.\u001B[39mdevice\u001B[38;5;241m.\u001B[39mwires\n\u001B[1;32m    196\u001B[0m \u001B[38;5;28;01mif\u001B[39;00m tapes \u001B[38;5;129;01mis\u001B[39;00m \u001B[38;5;129;01mnot\u001B[39;00m \u001B[38;5;28;01mNone\u001B[39;00m:\n",
      "\u001B[0;31mAttributeError\u001B[0m: 'NoneType' object has no attribute 'expansion_strategy'"
     ]
    }
   ],
   "source": [
    "print(qml.draw(qnode=circuit(params), expansion_strategy='device')())"
   ],
   "metadata": {
    "collapsed": false
   }
  },
  {
   "cell_type": "code",
   "execution_count": 12,
   "outputs": [],
   "source": [
    "optimizer = qml.GradientDescentOptimizer()\n",
    "steps = 70\n",
    "params = np.array([[0.5, 0.5], [0.5, 0.5]], requires_grad=True)"
   ],
   "metadata": {
    "collapsed": false
   }
  },
  {
   "cell_type": "code",
   "execution_count": 14,
   "outputs": [
    {
     "name": "stdout",
     "output_type": "stream",
     "text": [
      "Optimal Parameters\n",
      "[[0.59806352 0.94198485]\n",
      " [0.52797281 0.85552845]]\n"
     ]
    }
   ],
   "source": [
    "for i in range(steps):\n",
    "    params = optimizer.step(cost_function, params)\n",
    "\n",
    "print(\"Optimal Parameters\")\n",
    "print(params)\n"
   ],
   "metadata": {
    "collapsed": false
   }
  },
  {
   "cell_type": "code",
   "execution_count": 15,
   "outputs": [],
   "source": [
    "@qml.qnode(dev)\n",
    "def probability_circuit(gamma, alpha):\n",
    "    circuit([gamma, alpha])\n",
    "    return qml.probs(wires=wires)\n",
    "\n",
    "\n",
    "probs = probability_circuit(params[0], params[1])\n"
   ],
   "metadata": {
    "collapsed": false
   }
  },
  {
   "cell_type": "code",
   "execution_count": 20,
   "outputs": [
    {
     "ename": "AttributeError",
     "evalue": "'tensor' object has no attribute 'construct'",
     "output_type": "error",
     "traceback": [
      "\u001B[0;31m---------------------------------------------------------------------------\u001B[0m",
      "\u001B[0;31mAttributeError\u001B[0m                            Traceback (most recent call last)",
      "Input \u001B[0;32mIn [20]\u001B[0m, in \u001B[0;36m<cell line: 1>\u001B[0;34m()\u001B[0m\n\u001B[0;32m----> 1\u001B[0m \u001B[38;5;28mprint\u001B[39m(\u001B[43mqml\u001B[49m\u001B[38;5;241;43m.\u001B[39;49m\u001B[43mdraw\u001B[49m\u001B[43m(\u001B[49m\u001B[43mqnode\u001B[49m\u001B[38;5;241;43m=\u001B[39;49m\u001B[43mprobs\u001B[49m\u001B[43m,\u001B[49m\u001B[43m \u001B[49m\u001B[43mexpansion_strategy\u001B[49m\u001B[38;5;241;43m=\u001B[39;49m\u001B[38;5;124;43m'\u001B[39;49m\u001B[38;5;124;43mdevice\u001B[39;49m\u001B[38;5;124;43m'\u001B[39;49m\u001B[43m)\u001B[49m\u001B[43m(\u001B[49m\u001B[43m)\u001B[49m)\n",
      "File \u001B[0;32m~/.conda/envs/quantum-py38/lib/python3.8/site-packages/pennylane/drawer/draw.py:190\u001B[0m, in \u001B[0;36mdraw.<locals>.wrapper\u001B[0;34m(*args, **kwargs)\u001B[0m\n\u001B[1;32m    188\u001B[0m \u001B[38;5;28;01mtry\u001B[39;00m:\n\u001B[1;32m    189\u001B[0m     qnode\u001B[38;5;241m.\u001B[39mexpansion_strategy \u001B[38;5;241m=\u001B[39m expansion_strategy \u001B[38;5;129;01mor\u001B[39;00m original_expansion_strategy\n\u001B[0;32m--> 190\u001B[0m     tapes \u001B[38;5;241m=\u001B[39m \u001B[43mqnode\u001B[49m\u001B[38;5;241;43m.\u001B[39;49m\u001B[43mconstruct\u001B[49m(args, kwargs)\n\u001B[1;32m    191\u001B[0m \u001B[38;5;28;01mfinally\u001B[39;00m:\n\u001B[1;32m    192\u001B[0m     qnode\u001B[38;5;241m.\u001B[39mexpansion_strategy \u001B[38;5;241m=\u001B[39m original_expansion_strategy\n",
      "\u001B[0;31mAttributeError\u001B[0m: 'tensor' object has no attribute 'construct'"
     ]
    }
   ],
   "source": [
    "print(qml.draw(qnode=probs, expansion_strategy='device')())"
   ],
   "metadata": {
    "collapsed": false
   }
  },
  {
   "cell_type": "code",
   "execution_count": 16,
   "outputs": [
    {
     "data": {
      "text/plain": "<Figure size 576x396 with 1 Axes>",
      "image/png": "[encoded data removed]"
     },
     "metadata": {},
     "output_type": "display_data"
    }
   ],
   "source": [
    "plt.style.use(\"seaborn\")\n",
    "plt.bar(range(2 ** len(wires)), probs)\n",
    "plt.show()"
   ],
   "metadata": {
    "collapsed": false
   }
  },
  {
   "cell_type": "code",
   "execution_count": null,
   "outputs": [],
   "source": [],
   "metadata": {
    "collapsed": false
   }
  },
  {
   "cell_type": "code",
   "execution_count": null,
   "outputs": [],
   "source": [],
   "metadata": {
    "collapsed": false
   }
  },
  {
   "cell_type": "markdown",
   "source": [
    "# 2. LOGISMOS"
   ],
   "metadata": {
    "collapsed": false
   }
  },
  {
   "cell_type": "markdown",
   "source": [
    "LOGISMOS graph: simple, no geometric constraints"
   ],
   "metadata": {
    "collapsed": false
   }
  },
  {
   "cell_type": "code",
   "execution_count": 22,
   "outputs": [
    {
     "data": {
      "text/plain": "<Figure size 432x288 with 1 Axes>",
      "image/png": "[encoded data removed]"
     },
     "metadata": {},
     "output_type": "display_data"
    }
   ],
   "source": [
    "edges_logismos_1 = [\n",
    "    (0,1), (0,5), (0,9),\n",
    "    (1,2),\n",
    "    (2,3),\n",
    "    (3,4),\n",
    "    (4,13),\n",
    "    (5,6),\n",
    "    (6,7),\n",
    "    (7,8),\n",
    "    (8,13),\n",
    "    (9,10),\n",
    "    (10,11),\n",
    "    (11,12),\n",
    "    (12,13),\n",
    "]\n",
    "\n",
    "graph_logismos = nx.Graph(edges_logismos_1)\n",
    "\n",
    "nx.draw(graph_logismos, with_labels=True)\n",
    "plt.show()\n"
   ],
   "metadata": {
    "collapsed": false
   }
  },
  {
   "cell_type": "markdown",
   "source": [],
   "metadata": {
    "collapsed": false
   }
  },
  {
   "cell_type": "markdown",
   "source": [
    "Directed LOGISMOS graph: simple, no geometric constraints"
   ],
   "metadata": {
    "collapsed": false
   }
  },
  {
   "cell_type": "code",
   "execution_count": 1,
   "outputs": [
    {
     "ename": "NameError",
     "evalue": "name 'nx' is not defined",
     "output_type": "error",
     "traceback": [
      "\u001B[0;31m---------------------------------------------------------------------------\u001B[0m",
      "\u001B[0;31mNameError\u001B[0m                                 Traceback (most recent call last)",
      "Input \u001B[0;32mIn [1]\u001B[0m, in \u001B[0;36m<cell line: 1>\u001B[0;34m()\u001B[0m\n\u001B[0;32m----> 1\u001B[0m G_logismos \u001B[38;5;241m=\u001B[39m \u001B[43mnx\u001B[49m\u001B[38;5;241m.\u001B[39mDiGraph()\n\u001B[1;32m      2\u001B[0m G_logismos\u001B[38;5;241m.\u001B[39madd_edge(\u001B[38;5;124m'\u001B[39m\u001B[38;5;124m0\u001B[39m\u001B[38;5;124m'\u001B[39m, \u001B[38;5;124m'\u001B[39m\u001B[38;5;124m1\u001B[39m\u001B[38;5;124m'\u001B[39m, capacity\u001B[38;5;241m=\u001B[39m\u001B[38;5;241m100.0\u001B[39m)\n\u001B[1;32m      3\u001B[0m G_logismos\u001B[38;5;241m.\u001B[39madd_edge(\u001B[38;5;124m'\u001B[39m\u001B[38;5;124m0\u001B[39m\u001B[38;5;124m'\u001B[39m, \u001B[38;5;124m'\u001B[39m\u001B[38;5;124m5\u001B[39m\u001B[38;5;124m'\u001B[39m, capacity\u001B[38;5;241m=\u001B[39m\u001B[38;5;241m100.0\u001B[39m)\n",
      "\u001B[0;31mNameError\u001B[0m: name 'nx' is not defined"
     ]
    }
   ],
   "source": [
    "G_logismos = nx.DiGraph()\n",
    "G_logismos.add_edge('0', '1', capacity=100.0)\n",
    "G_logismos.add_edge('0', '5', capacity=100.0)\n",
    "G_logismos.add_edge('0', '9', capacity=100.0)\n",
    "\n",
    "G_logismos.add_edge('1', '2', capacity=2.0)\n",
    "G_logismos.add_edge('2', '3', capacity=1.0)\n",
    "G_logismos.add_edge('3', '4', capacity=1.0)\n",
    "G_logismos.add_edge('4', '13', capacity=100.0)            # sink\n",
    "G_logismos.add_edge('5', '6', capacity=2.0)\n",
    "G_logismos.add_edge('6', '7', capacity=2.0)\n",
    "G_logismos.add_edge('7', '8', capacity=1.0)\n",
    "G_logismos.add_edge('8', '13', capacity=100.0)        # sink\n",
    "G_logismos.add_edge('9', '10', capacity=2.0)\n",
    "G_logismos.add_edge('10', '11', capacity=2.0)\n",
    "G_logismos.add_edge('11', '12', capacity=1.0)\n",
    "G_logismos.add_edge('12', '13', capacity=100.0)           # sink\n",
    "\n",
    "nx.draw(G_logismos, with_labels=True)"
   ],
   "metadata": {
    "collapsed": false
   }
  },
  {
   "cell_type": "code",
   "execution_count": 61,
   "outputs": [
    {
     "data": {
      "text/plain": "3.0"
     },
     "execution_count": 61,
     "metadata": {},
     "output_type": "execute_result"
    }
   ],
   "source": [
    "flow_value, flow_dict = nx.maximum_flow(G_logismos, \"0\", \"13\")\n",
    "flow_value"
   ],
   "metadata": {
    "collapsed": false
   }
  },
  {
   "cell_type": "code",
   "execution_count": 62,
   "outputs": [],
   "source": [
    "cut_value, partition = nx.minimum_cut(G_logismos, \"0\", \"13\")\n",
    "reachable, non_reachable = partition\n"
   ],
   "metadata": {
    "collapsed": false
   }
  },
  {
   "cell_type": "markdown",
   "source": [],
   "metadata": {
    "collapsed": false
   }
  },
  {
   "cell_type": "code",
   "execution_count": 63,
   "outputs": [
    {
     "name": "stdout",
     "output_type": "stream",
     "text": [
      "[('11', '12'), ('3', '4'), ('7', '8')]\n"
     ]
    }
   ],
   "source": [
    "cutset = set()\n",
    "for u, nbrs in ((n, G_logismos[n]) for n in reachable):\n",
    "    cutset.update((u, v) for v in nbrs if v in non_reachable)\n",
    "print(sorted(cutset))"
   ],
   "metadata": {
    "collapsed": false
   }
  },
  {
   "cell_type": "markdown",
   "source": [
    "# Solved min-cut graph"
   ],
   "metadata": {
    "collapsed": false
   }
  },
  {
   "cell_type": "code",
   "execution_count": 37,
   "outputs": [
    {
     "data": {
      "text/plain": "<Figure size 432x288 with 1 Axes>",
      "image/png": "[encoded data removed]"
     },
     "metadata": {},
     "output_type": "display_data"
    }
   ],
   "source": [
    "G = nx.DiGraph()\n",
    "G.add_edge(\"x\", \"a\", capacity=3.0)\n",
    "G.add_edge(\"x\", \"b\", capacity=1.0)\n",
    "G.add_edge(\"a\", \"c\", capacity=3.0)\n",
    "G.add_edge(\"b\", \"c\", capacity=5.0)\n",
    "G.add_edge(\"b\", \"d\", capacity=4.0)\n",
    "G.add_edge(\"d\", \"e\", capacity=2.0)\n",
    "G.add_edge(\"c\", \"y\", capacity=2.0)\n",
    "G.add_edge(\"e\", \"y\", capacity=3.0)\n",
    "nx.draw(G, with_labels=True)"
   ],
   "metadata": {
    "collapsed": false
   }
  },
  {
   "cell_type": "code",
   "execution_count": 19,
   "outputs": [
    {
     "data": {
      "text/plain": "3.0"
     },
     "execution_count": 19,
     "metadata": {},
     "output_type": "execute_result"
    }
   ],
   "source": [
    "flow_value, flow_dict = nx.maximum_flow(G, \"x\", \"y\")\n",
    "flow_value"
   ],
   "metadata": {
    "collapsed": false
   }
  },
  {
   "cell_type": "code",
   "execution_count": 20,
   "outputs": [],
   "source": [
    "cut_value, partition = nx.minimum_cut(G, \"x\", \"y\")\n",
    "reachable, non_reachable = partition\n"
   ],
   "metadata": {
    "collapsed": false
   }
  },
  {
   "cell_type": "code",
   "execution_count": 21,
   "outputs": [
    {
     "name": "stdout",
     "output_type": "stream",
     "text": [
      "[('c', 'y'), ('x', 'b')]\n"
     ]
    }
   ],
   "source": [
    "cutset = set()\n",
    "for u, nbrs in ((n, G[n]) for n in reachable):\n",
    "    cutset.update((u, v) for v in nbrs if v in non_reachable)\n",
    "print(sorted(cutset))"
   ],
   "metadata": {
    "collapsed": false
   }
  },
  {
   "cell_type": "code",
   "execution_count": null,
   "outputs": [],
   "source": [],
   "metadata": {
    "collapsed": false
   }
  },
  {
   "cell_type": "code",
   "execution_count": null,
   "outputs": [],
   "source": [],
   "metadata": {
    "collapsed": false
   }
  },
  {
   "cell_type": "code",
   "execution_count": null,
   "outputs": [],
   "source": [],
   "metadata": {
    "collapsed": false
   }
  },
  {
   "cell_type": "code",
   "execution_count": null,
   "outputs": [],
   "source": [],
   "metadata": {
    "collapsed": false
   }
  },
  {
   "cell_type": "code",
   "execution_count": null,
   "outputs": [],
   "source": [],
   "metadata": {
    "collapsed": false
   }
  },
  {
   "cell_type": "code",
   "execution_count": null,
   "outputs": [],
   "source": [],
   "metadata": {
    "collapsed": false
   }
  }
 ],
 "metadata": {
  "kernelspec": {
   "display_name": "Python 3",
   "language": "python",
   "name": "python3"
  },
  "language_info": {
   "codemirror_mode": {
    "name": "ipython",
    "version": 2
   },
   "file_extension": ".py",
   "mimetype": "text/x-python",
   "name": "python",
   "nbconvert_exporter": "python",
   "pygments_lexer": "ipython2",
   "version": "2.7.6"
  }
 },
 "nbformat": 4,
 "nbformat_minor": 0
}
