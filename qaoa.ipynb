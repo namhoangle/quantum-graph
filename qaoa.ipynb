{
 "cells": [
  {
   "cell_type": "code",
   "execution_count": 3,
   "outputs": [],
   "source": [
    "import pennylane as qml\n",
    "from pennylane import qaoa\n",
    "from pennylane import numpy as np\n",
    "from matplotlib import pyplot as plt\n",
    "import networkx as nx\n",
    "import itertools"
   ],
   "metadata": {
    "collapsed": false,
    "ExecuteTime": {
     "start_time": "2023-03-30T17:34:26.847331Z",
     "end_time": "2023-03-30T17:34:26.855945Z"
    }
   }
  },
  {
   "cell_type": "code",
   "execution_count": 4,
   "outputs": [],
   "source": [
    "from qiskit.utils import algorithm_globals\n",
    "from qiskit.algorithms.minimum_eigensolvers import QAOA, NumPyMinimumEigensolver\n",
    "from qiskit.algorithms.optimizers import COBYLA\n",
    "from qiskit.primitives import Sampler\n",
    "from qiskit_optimization.algorithms import (\n",
    "    MinimumEigenOptimizer,\n",
    "    RecursiveMinimumEigenOptimizer,\n",
    "    SolutionSample,\n",
    "    OptimizationResultStatus,\n",
    ")\n",
    "from qiskit_optimization import QuadraticProgram\n",
    "from qiskit.visualization import plot_histogram\n",
    "from typing import List, Tuple\n",
    "import numpy as np"
   ],
   "metadata": {
    "collapsed": false,
    "ExecuteTime": {
     "start_time": "2023-03-30T17:34:27.709834Z",
     "end_time": "2023-03-30T17:34:30.276074Z"
    }
   }
  },
  {
   "cell_type": "markdown",
   "source": [
    "# 1.PennyLane API"
   ],
   "metadata": {
    "collapsed": false
   }
  },
  {
   "cell_type": "markdown",
   "source": [
    "## Define a TOTAL Hamiltonian: H_p"
   ],
   "metadata": {
    "collapsed": false
   }
  },
  {
   "cell_type": "markdown",
   "source": [
    "First, given a series of Hamiltonian H1, H2, H3, a TOTAL H is defined as\n",
    "\n",
    "H = c1 * H1 + c2 * H2 + c3 * H3\n",
    "\n",
    "if H1, H2, H3 are all Pauli operators, then H is"
   ],
   "metadata": {
    "collapsed": false
   }
  },
  {
   "cell_type": "code",
   "execution_count": 3,
   "metadata": {
    "collapsed": true
   },
   "outputs": [
    {
     "name": "stdout",
     "output_type": "stream",
     "text": [
      "  (1) [X0]\n",
      "+ (1) [Z1]\n",
      "+ (0.5) [X0 X1]\n"
     ]
    }
   ],
   "source": [
    "\n",
    "\n",
    "H = qml.Hamiltonian(\n",
    "    [1, 1, 0.5],\n",
    "    [qml.PauliX(0), qml.PauliZ(1), qml.PauliX(0) @ qml.PauliX(1)]\n",
    ")\n",
    "print(H)\n"
   ]
  },
  {
   "cell_type": "markdown",
   "source": [
    "## Define a circuit based on H_p"
   ],
   "metadata": {
    "collapsed": false
   }
  },
  {
   "cell_type": "markdown",
   "source": [
    "Here, pennylane allows convert from Hamiltonian to qubit operator directly, using Trotter-Suzuki decomposition.\n",
    "The resulting circuit is a time evolution operator U(H) with the Trotter-Suzuki decomposition, and contains only pauli gates.\n",
    "here choose n=2"
   ],
   "metadata": {
    "collapsed": false
   }
  },
  {
   "cell_type": "markdown",
   "source": [
    "n=1"
   ],
   "metadata": {
    "collapsed": false
   }
  },
  {
   "cell_type": "code",
   "execution_count": 28,
   "outputs": [
    {
     "name": "stdout",
     "output_type": "stream",
     "text": [
      "0: ──RX(1.00)─╭RXX(0.50)──RX(1.00)─╭RXX(0.50)─┤  <Z>\n",
      "1: ──RZ(1.00)─╰RXX(0.50)──RZ(1.00)─╰RXX(0.50)─┤  <Z>\n"
     ]
    }
   ],
   "source": [
    "\n",
    "# First define a device with 2 qubits\n",
    "wires = 2\n",
    "dev = qml.device(name='default.qubit', wires=wires)\n",
    "\n",
    "# Define the time evolution operator U(H) with the Trotter-Suzuki decomposition\n",
    "t = 1 # parameter t in the time evolution operator\n",
    "n = 2 # choose n = 2, larger n gives better approximation\n",
    "\n",
    "@qml.qnode(dev)\n",
    "def circuit():\n",
    "    qml.ApproxTimeEvolution(hamiltonian=H, time=t, n=n)\n",
    "    return [qml.expval(qml.PauliZ(i)) for i in range(wires)]    # get expectation values of PauliZ for each qubit\n",
    "\n",
    "print(qml.draw(qnode=circuit, expansion_strategy='device')())"
   ],
   "metadata": {
    "collapsed": false
   }
  },
  {
   "cell_type": "markdown",
   "source": [
    "n=2"
   ],
   "metadata": {
    "collapsed": false
   }
  },
  {
   "cell_type": "code",
   "execution_count": 3,
   "outputs": [
    {
     "name": "stdout",
     "output_type": "stream",
     "text": [
      "0: ──RX(1.00)─╭RXX(0.50)──RX(1.00)─╭RXX(0.50)─┤  <Z>\n",
      "1: ──RZ(1.00)─╰RXX(0.50)──RZ(1.00)─╰RXX(0.50)─┤  <Z>\n"
     ]
    }
   ],
   "source": [
    "\n",
    "# First define a device with 2 qubits\n",
    "wires = 2\n",
    "dev = qml.device(name='default.qubit', wires=wires)\n",
    "\n",
    "# Define the time evolution operator U(H) with the Trotter-Suzuki decomposition\n",
    "t = 1 # parameter t in the time evolution operator\n",
    "n = 2 # choose n = 2, larger n gives better approximation\n",
    "\n",
    "@qml.qnode(dev)\n",
    "def circuit():\n",
    "    qml.ApproxTimeEvolution(hamiltonian=H, time=t, n=n)\n",
    "    return [qml.expval(qml.PauliZ(i)) for i in range(wires)]    # get expectation values of PauliZ for each qubit\n",
    "\n",
    "print(qml.draw(qnode=circuit, expansion_strategy='device')())"
   ],
   "metadata": {
    "collapsed": false
   }
  },
  {
   "cell_type": "code",
   "execution_count": 4,
   "outputs": [
    {
     "name": "stdout",
     "output_type": "stream",
     "text": [
      "0: ──RX(0.50)─╭●─┤  <Z>\n",
      "1: ──H────────╰X─┤  <Z>\n"
     ]
    }
   ],
   "source": [
    "def circ(theta):\n",
    "    qml.RX(theta, wires=0)\n",
    "    qml.Hadamard(wires=1)\n",
    "    qml.CNOT(wires=[0, 1])\n",
    "\n",
    "@qml.qnode(dev)\n",
    "def circuit(param):\n",
    "    circ(param)\n",
    "    return [qml.expval(qml.PauliZ(i)) for i in range(2)]\n",
    "\n",
    "print(qml.draw(circuit)(0.5))"
   ],
   "metadata": {
    "collapsed": false
   }
  },
  {
   "cell_type": "code",
   "execution_count": 5,
   "outputs": [
    {
     "name": "stdout",
     "output_type": "stream",
     "text": [
      "0: ──RX(0.30)─╭●──RX(0.40)─╭●──RX(0.50)─╭●─┤  <Z>\n",
      "1: ──H────────╰X──H────────╰X──H────────╰X─┤  <Z>\n"
     ]
    }
   ],
   "source": [
    "@qml.qnode(dev)\n",
    "def circuit(params, **kwargs):\n",
    "    qml.layer(circ, 3, params)\n",
    "    return [qml.expval(qml.PauliZ(i)) for i in range(2)]\n",
    "\n",
    "print(qml.draw(circuit)([0.3, 0.4, 0.5]))"
   ],
   "metadata": {
    "collapsed": false
   }
  },
  {
   "cell_type": "code",
   "execution_count": null,
   "outputs": [],
   "source": [],
   "metadata": {
    "collapsed": false
   }
  },
  {
   "cell_type": "code",
   "execution_count": null,
   "outputs": [],
   "source": [],
   "metadata": {
    "collapsed": false
   }
  },
  {
   "cell_type": "code",
   "execution_count": null,
   "outputs": [],
   "source": [],
   "metadata": {
    "collapsed": false
   }
  },
  {
   "cell_type": "markdown",
   "source": [
    "# Define a graph which is a direct mapping of an image"
   ],
   "metadata": {
    "collapsed": false
   }
  },
  {
   "cell_type": "code",
   "execution_count": 2,
   "outputs": [],
   "source": [
    "from pennylane import qaoa\n",
    "from pennylane import numpy as np\n",
    "from matplotlib import pyplot as plt\n",
    "import networkx as nx"
   ],
   "metadata": {
    "collapsed": false
   }
  },
  {
   "cell_type": "code",
   "execution_count": 7,
   "outputs": [
    {
     "data": {
      "text/plain": "<Figure size 432x288 with 1 Axes>",
      "image/png": "[encoded data removed]"
     },
     "metadata": {},
     "output_type": "display_data"
    }
   ],
   "source": [
    "edges = [(0, 1), (1, 2), (2, 0), (2, 3)]\n",
    "graph = nx.Graph(edges)\n",
    "\n",
    "nx.draw(graph, with_labels=True)\n",
    "plt.show()"
   ],
   "metadata": {
    "collapsed": false
   }
  },
  {
   "cell_type": "code",
   "execution_count": null,
   "outputs": [],
   "source": [],
   "metadata": {
    "collapsed": false
   }
  },
  {
   "cell_type": "markdown",
   "source": [
    "# Define a Hamiltonian H_p based on the graph and given task"
   ],
   "metadata": {
    "collapsed": false
   }
  },
  {
   "cell_type": "code",
   "execution_count": 29,
   "outputs": [
    {
     "ename": "TypeError",
     "evalue": "maxcut() got an unexpected keyword argument 'constrained'",
     "output_type": "error",
     "traceback": [
      "\u001B[0;31m---------------------------------------------------------------------------\u001B[0m",
      "\u001B[0;31mTypeError\u001B[0m                                 Traceback (most recent call last)",
      "Input \u001B[0;32mIn [29]\u001B[0m, in \u001B[0;36m<cell line: 1>\u001B[0;34m()\u001B[0m\n\u001B[0;32m----> 1\u001B[0m cost_h, mixer_h \u001B[38;5;241m=\u001B[39m \u001B[43mqaoa\u001B[49m\u001B[38;5;241;43m.\u001B[39;49m\u001B[43mmaxcut\u001B[49m\u001B[43m(\u001B[49m\u001B[43mgraph\u001B[49m\u001B[43m,\u001B[49m\u001B[43m \u001B[49m\u001B[43mconstrained\u001B[49m\u001B[38;5;241;43m=\u001B[39;49m\u001B[38;5;28;43;01mFalse\u001B[39;49;00m\u001B[43m)\u001B[49m\n\u001B[1;32m      3\u001B[0m \u001B[38;5;28mprint\u001B[39m(\u001B[38;5;124m\"\u001B[39m\u001B[38;5;124mCost Hamiltonian\u001B[39m\u001B[38;5;124m\"\u001B[39m, cost_h)\n\u001B[1;32m      4\u001B[0m \u001B[38;5;28mprint\u001B[39m(\u001B[38;5;124m\"\u001B[39m\u001B[38;5;124mMixer Hamiltonian\u001B[39m\u001B[38;5;124m\"\u001B[39m, mixer_h)\n",
      "\u001B[0;31mTypeError\u001B[0m: maxcut() got an unexpected keyword argument 'constrained'"
     ]
    }
   ],
   "source": [
    "cost_h, mixer_h = qaoa.min_vertex_cover(graph, constrained=False)\n",
    "\n",
    "print(\"Cost Hamiltonian\", cost_h)\n",
    "print(\"Mixer Hamiltonian\", mixer_h)"
   ],
   "metadata": {
    "collapsed": false
   }
  },
  {
   "cell_type": "markdown",
   "source": [
    "# Define a circuit based on H_p"
   ],
   "metadata": {
    "collapsed": false
   }
  },
  {
   "cell_type": "code",
   "execution_count": 9,
   "outputs": [],
   "source": [
    "def qaoa_layer(gamma, alpha):\n",
    "    \"\"\"\n",
    "    Building blocks of the QAOA ansatz.\n",
    "    :param gamma: variational parameter for cost layer\n",
    "    :param alpha: variational parameter for mixer layer\n",
    "    :return:\n",
    "    \"\"\"\n",
    "    qaoa.cost_layer(gamma, cost_h)\n",
    "    qaoa.mixer_layer(alpha, mixer_h)"
   ],
   "metadata": {
    "collapsed": false
   }
  },
  {
   "cell_type": "code",
   "execution_count": 10,
   "outputs": [],
   "source": [
    "wires = range(4)\n",
    "depth = 2\n",
    "\n",
    "def circuit(params, **kwargs):\n",
    "    for w in wires:\n",
    "        qml.Hadamard(wires=w)\n",
    "    qml.layer(qaoa_layer, depth, params[0], params[1])"
   ],
   "metadata": {
    "collapsed": false
   }
  },
  {
   "cell_type": "code",
   "execution_count": 13,
   "outputs": [
    {
     "ename": "TypeError",
     "evalue": "cost_function() missing 1 required positional argument: 'params'",
     "output_type": "error",
     "traceback": [
      "\u001B[0;31m---------------------------------------------------------------------------\u001B[0m",
      "\u001B[0;31mTypeError\u001B[0m                                 Traceback (most recent call last)",
      "Input \u001B[0;32mIn [13]\u001B[0m, in \u001B[0;36m<cell line: 8>\u001B[0;34m()\u001B[0m\n\u001B[1;32m      5\u001B[0m     circuit(params)\n\u001B[1;32m      6\u001B[0m     \u001B[38;5;28;01mreturn\u001B[39;00m qml\u001B[38;5;241m.\u001B[39mexpval(cost_h)\n\u001B[0;32m----> 8\u001B[0m \u001B[38;5;28mprint\u001B[39m(\u001B[43mqml\u001B[49m\u001B[38;5;241;43m.\u001B[39;49m\u001B[43mdraw\u001B[49m\u001B[43m(\u001B[49m\u001B[43mcost_function\u001B[49m\u001B[43m)\u001B[49m\u001B[43m(\u001B[49m\u001B[43m)\u001B[49m)\n",
      "File \u001B[0;32m~/.conda/envs/quantum-py38/lib/python3.8/site-packages/pennylane/drawer/draw.py:190\u001B[0m, in \u001B[0;36mdraw.<locals>.wrapper\u001B[0;34m(*args, **kwargs)\u001B[0m\n\u001B[1;32m    188\u001B[0m \u001B[38;5;28;01mtry\u001B[39;00m:\n\u001B[1;32m    189\u001B[0m     qnode\u001B[38;5;241m.\u001B[39mexpansion_strategy \u001B[38;5;241m=\u001B[39m expansion_strategy \u001B[38;5;129;01mor\u001B[39;00m original_expansion_strategy\n\u001B[0;32m--> 190\u001B[0m     tapes \u001B[38;5;241m=\u001B[39m \u001B[43mqnode\u001B[49m\u001B[38;5;241;43m.\u001B[39;49m\u001B[43mconstruct\u001B[49m\u001B[43m(\u001B[49m\u001B[43margs\u001B[49m\u001B[43m,\u001B[49m\u001B[43m \u001B[49m\u001B[43mkwargs\u001B[49m\u001B[43m)\u001B[49m\n\u001B[1;32m    191\u001B[0m \u001B[38;5;28;01mfinally\u001B[39;00m:\n\u001B[1;32m    192\u001B[0m     qnode\u001B[38;5;241m.\u001B[39mexpansion_strategy \u001B[38;5;241m=\u001B[39m original_expansion_strategy\n",
      "File \u001B[0;32m~/.conda/envs/quantum-py38/lib/python3.8/site-packages/pennylane/qnode.py:711\u001B[0m, in \u001B[0;36mQNode.construct\u001B[0;34m(self, args, kwargs)\u001B[0m\n\u001B[1;32m    708\u001B[0m \u001B[38;5;28;01mdef\u001B[39;00m \u001B[38;5;21mconstruct\u001B[39m(\u001B[38;5;28mself\u001B[39m, args, kwargs):\n\u001B[1;32m    709\u001B[0m     \u001B[38;5;124;03m\"\"\"Call the quantum function with a tape context, ensuring the operations get queued.\"\"\"\u001B[39;00m\n\u001B[0;32m--> 711\u001B[0m     \u001B[38;5;28mself\u001B[39m\u001B[38;5;241m.\u001B[39m_tape \u001B[38;5;241m=\u001B[39m \u001B[43mmake_qscript\u001B[49m\u001B[43m(\u001B[49m\u001B[38;5;28;43mself\u001B[39;49m\u001B[38;5;241;43m.\u001B[39;49m\u001B[43mfunc\u001B[49m\u001B[43m)\u001B[49m\u001B[43m(\u001B[49m\u001B[38;5;241;43m*\u001B[39;49m\u001B[43margs\u001B[49m\u001B[43m,\u001B[49m\u001B[43m \u001B[49m\u001B[38;5;241;43m*\u001B[39;49m\u001B[38;5;241;43m*\u001B[39;49m\u001B[43mkwargs\u001B[49m\u001B[43m)\u001B[49m\n\u001B[1;32m    712\u001B[0m     \u001B[38;5;28mself\u001B[39m\u001B[38;5;241m.\u001B[39m_tape\u001B[38;5;241m.\u001B[39m_queue_category \u001B[38;5;241m=\u001B[39m \u001B[38;5;124m\"\u001B[39m\u001B[38;5;124m_ops\u001B[39m\u001B[38;5;124m\"\u001B[39m\n\u001B[1;32m    713\u001B[0m     \u001B[38;5;28mself\u001B[39m\u001B[38;5;241m.\u001B[39m_qfunc_output \u001B[38;5;241m=\u001B[39m \u001B[38;5;28mself\u001B[39m\u001B[38;5;241m.\u001B[39mtape\u001B[38;5;241m.\u001B[39m_qfunc_output\n",
      "File \u001B[0;32m~/.conda/envs/quantum-py38/lib/python3.8/site-packages/pennylane/tape/qscript.py:1346\u001B[0m, in \u001B[0;36mmake_qscript.<locals>.wrapper\u001B[0;34m(*args, **kwargs)\u001B[0m\n\u001B[1;32m   1344\u001B[0m \u001B[38;5;28;01mdef\u001B[39;00m \u001B[38;5;21mwrapper\u001B[39m(\u001B[38;5;241m*\u001B[39margs, \u001B[38;5;241m*\u001B[39m\u001B[38;5;241m*\u001B[39mkwargs):\n\u001B[1;32m   1345\u001B[0m     \u001B[38;5;28;01mwith\u001B[39;00m AnnotatedQueue() \u001B[38;5;28;01mas\u001B[39;00m q:\n\u001B[0;32m-> 1346\u001B[0m         result \u001B[38;5;241m=\u001B[39m \u001B[43mfn\u001B[49m\u001B[43m(\u001B[49m\u001B[38;5;241;43m*\u001B[39;49m\u001B[43margs\u001B[49m\u001B[43m,\u001B[49m\u001B[43m \u001B[49m\u001B[38;5;241;43m*\u001B[39;49m\u001B[38;5;241;43m*\u001B[39;49m\u001B[43mkwargs\u001B[49m\u001B[43m)\u001B[49m\n\u001B[1;32m   1348\u001B[0m     qscript \u001B[38;5;241m=\u001B[39m QuantumScript\u001B[38;5;241m.\u001B[39mfrom_queue(q)\n\u001B[1;32m   1349\u001B[0m     qscript\u001B[38;5;241m.\u001B[39m_qfunc_output \u001B[38;5;241m=\u001B[39m result\n",
      "\u001B[0;31mTypeError\u001B[0m: cost_function() missing 1 required positional argument: 'params'"
     ]
    }
   ],
   "source": [
    "dev = qml.device(\"qulacs.simulator\", wires=wires)\n",
    "\n",
    "@qml.qnode(dev)\n",
    "def cost_function(params):\n",
    "    circuit(params)\n",
    "    return qml.expval(cost_h)\n",
    "\n",
    "print(qml.draw(cost_function)(0.5))"
   ],
   "metadata": {
    "collapsed": false
   }
  },
  {
   "cell_type": "code",
   "execution_count": 18,
   "outputs": [
    {
     "ename": "AttributeError",
     "evalue": "'NoneType' object has no attribute 'expansion_strategy'",
     "output_type": "error",
     "traceback": [
      "\u001B[0;31m---------------------------------------------------------------------------\u001B[0m",
      "\u001B[0;31mAttributeError\u001B[0m                            Traceback (most recent call last)",
      "File \u001B[0;32m~/.conda/envs/quantum-py38/lib/python3.8/site-packages/pennylane/drawer/draw.py:189\u001B[0m, in \u001B[0;36mdraw.<locals>.wrapper\u001B[0;34m(*args, **kwargs)\u001B[0m\n\u001B[1;32m    188\u001B[0m \u001B[38;5;28;01mtry\u001B[39;00m:\n\u001B[0;32m--> 189\u001B[0m     qnode\u001B[38;5;241m.\u001B[39mexpansion_strategy \u001B[38;5;241m=\u001B[39m expansion_strategy \u001B[38;5;129;01mor\u001B[39;00m original_expansion_strategy\n\u001B[1;32m    190\u001B[0m     tapes \u001B[38;5;241m=\u001B[39m qnode\u001B[38;5;241m.\u001B[39mconstruct(args, kwargs)\n",
      "\u001B[0;31mAttributeError\u001B[0m: 'NoneType' object has no attribute 'expansion_strategy'",
      "\nDuring handling of the above exception, another exception occurred:\n",
      "\u001B[0;31mAttributeError\u001B[0m                            Traceback (most recent call last)",
      "Input \u001B[0;32mIn [18]\u001B[0m, in \u001B[0;36m<cell line: 1>\u001B[0;34m()\u001B[0m\n\u001B[0;32m----> 1\u001B[0m \u001B[38;5;28mprint\u001B[39m(\u001B[43mqml\u001B[49m\u001B[38;5;241;43m.\u001B[39;49m\u001B[43mdraw\u001B[49m\u001B[43m(\u001B[49m\u001B[43mqnode\u001B[49m\u001B[38;5;241;43m=\u001B[39;49m\u001B[43mcircuit\u001B[49m\u001B[43m(\u001B[49m\u001B[43mparams\u001B[49m\u001B[43m)\u001B[49m\u001B[43m,\u001B[49m\u001B[43m \u001B[49m\u001B[43mexpansion_strategy\u001B[49m\u001B[38;5;241;43m=\u001B[39;49m\u001B[38;5;124;43m'\u001B[39;49m\u001B[38;5;124;43mdevice\u001B[39;49m\u001B[38;5;124;43m'\u001B[39;49m\u001B[43m)\u001B[49m\u001B[43m(\u001B[49m\u001B[43m)\u001B[49m)\n",
      "File \u001B[0;32m~/.conda/envs/quantum-py38/lib/python3.8/site-packages/pennylane/drawer/draw.py:192\u001B[0m, in \u001B[0;36mdraw.<locals>.wrapper\u001B[0;34m(*args, **kwargs)\u001B[0m\n\u001B[1;32m    190\u001B[0m     tapes \u001B[38;5;241m=\u001B[39m qnode\u001B[38;5;241m.\u001B[39mconstruct(args, kwargs)\n\u001B[1;32m    191\u001B[0m \u001B[38;5;28;01mfinally\u001B[39;00m:\n\u001B[0;32m--> 192\u001B[0m     qnode\u001B[38;5;241m.\u001B[39mexpansion_strategy \u001B[38;5;241m=\u001B[39m original_expansion_strategy\n\u001B[1;32m    194\u001B[0m _wire_order \u001B[38;5;241m=\u001B[39m wire_order \u001B[38;5;129;01mor\u001B[39;00m qnode\u001B[38;5;241m.\u001B[39mdevice\u001B[38;5;241m.\u001B[39mwires\n\u001B[1;32m    196\u001B[0m \u001B[38;5;28;01mif\u001B[39;00m tapes \u001B[38;5;129;01mis\u001B[39;00m \u001B[38;5;129;01mnot\u001B[39;00m \u001B[38;5;28;01mNone\u001B[39;00m:\n",
      "\u001B[0;31mAttributeError\u001B[0m: 'NoneType' object has no attribute 'expansion_strategy'"
     ]
    }
   ],
   "source": [
    "print(qml.draw(qnode=circuit(params), expansion_strategy='device')())"
   ],
   "metadata": {
    "collapsed": false
   }
  },
  {
   "cell_type": "code",
   "execution_count": 12,
   "outputs": [],
   "source": [
    "optimizer = qml.GradientDescentOptimizer()\n",
    "steps = 70\n",
    "params = np.array([[0.5, 0.5], [0.5, 0.5]], requires_grad=True)"
   ],
   "metadata": {
    "collapsed": false
   }
  },
  {
   "cell_type": "code",
   "execution_count": 14,
   "outputs": [
    {
     "name": "stdout",
     "output_type": "stream",
     "text": [
      "Optimal Parameters\n",
      "[[0.59806352 0.94198485]\n",
      " [0.52797281 0.85552845]]\n"
     ]
    }
   ],
   "source": [
    "for i in range(steps):\n",
    "    params = optimizer.step(cost_function, params)\n",
    "\n",
    "print(\"Optimal Parameters\")\n",
    "print(params)\n"
   ],
   "metadata": {
    "collapsed": false
   }
  },
  {
   "cell_type": "code",
   "execution_count": 15,
   "outputs": [],
   "source": [
    "@qml.qnode(dev)\n",
    "def probability_circuit(gamma, alpha):\n",
    "    circuit([gamma, alpha])\n",
    "    return qml.probs(wires=wires)\n",
    "\n",
    "\n",
    "probs = probability_circuit(params[0], params[1])\n"
   ],
   "metadata": {
    "collapsed": false
   }
  },
  {
   "cell_type": "code",
   "execution_count": 20,
   "outputs": [
    {
     "ename": "AttributeError",
     "evalue": "'tensor' object has no attribute 'construct'",
     "output_type": "error",
     "traceback": [
      "\u001B[0;31m---------------------------------------------------------------------------\u001B[0m",
      "\u001B[0;31mAttributeError\u001B[0m                            Traceback (most recent call last)",
      "Input \u001B[0;32mIn [20]\u001B[0m, in \u001B[0;36m<cell line: 1>\u001B[0;34m()\u001B[0m\n\u001B[0;32m----> 1\u001B[0m \u001B[38;5;28mprint\u001B[39m(\u001B[43mqml\u001B[49m\u001B[38;5;241;43m.\u001B[39;49m\u001B[43mdraw\u001B[49m\u001B[43m(\u001B[49m\u001B[43mqnode\u001B[49m\u001B[38;5;241;43m=\u001B[39;49m\u001B[43mprobs\u001B[49m\u001B[43m,\u001B[49m\u001B[43m \u001B[49m\u001B[43mexpansion_strategy\u001B[49m\u001B[38;5;241;43m=\u001B[39;49m\u001B[38;5;124;43m'\u001B[39;49m\u001B[38;5;124;43mdevice\u001B[39;49m\u001B[38;5;124;43m'\u001B[39;49m\u001B[43m)\u001B[49m\u001B[43m(\u001B[49m\u001B[43m)\u001B[49m)\n",
      "File \u001B[0;32m~/.conda/envs/quantum-py38/lib/python3.8/site-packages/pennylane/drawer/draw.py:190\u001B[0m, in \u001B[0;36mdraw.<locals>.wrapper\u001B[0;34m(*args, **kwargs)\u001B[0m\n\u001B[1;32m    188\u001B[0m \u001B[38;5;28;01mtry\u001B[39;00m:\n\u001B[1;32m    189\u001B[0m     qnode\u001B[38;5;241m.\u001B[39mexpansion_strategy \u001B[38;5;241m=\u001B[39m expansion_strategy \u001B[38;5;129;01mor\u001B[39;00m original_expansion_strategy\n\u001B[0;32m--> 190\u001B[0m     tapes \u001B[38;5;241m=\u001B[39m \u001B[43mqnode\u001B[49m\u001B[38;5;241;43m.\u001B[39;49m\u001B[43mconstruct\u001B[49m(args, kwargs)\n\u001B[1;32m    191\u001B[0m \u001B[38;5;28;01mfinally\u001B[39;00m:\n\u001B[1;32m    192\u001B[0m     qnode\u001B[38;5;241m.\u001B[39mexpansion_strategy \u001B[38;5;241m=\u001B[39m original_expansion_strategy\n",
      "\u001B[0;31mAttributeError\u001B[0m: 'tensor' object has no attribute 'construct'"
     ]
    }
   ],
   "source": [
    "print(qml.draw(qnode=probs, expansion_strategy='device')())"
   ],
   "metadata": {
    "collapsed": false
   }
  },
  {
   "cell_type": "code",
   "execution_count": 16,
   "outputs": [
    {
     "data": {
      "text/plain": "<Figure size 576x396 with 1 Axes>",
      "image/png": "[encoded data removed]"
     },
     "metadata": {},
     "output_type": "display_data"
    }
   ],
   "source": [
    "plt.style.use(\"seaborn\")\n",
    "plt.bar(range(2 ** len(wires)), probs)\n",
    "plt.show()"
   ],
   "metadata": {
    "collapsed": false
   }
  },
  {
   "cell_type": "code",
   "execution_count": null,
   "outputs": [],
   "source": [],
   "metadata": {
    "collapsed": false
   }
  },
  {
   "cell_type": "code",
   "execution_count": null,
   "outputs": [],
   "source": [],
   "metadata": {
    "collapsed": false
   }
  },
  {
   "cell_type": "markdown",
   "source": [
    "# 2. LOGISMOS"
   ],
   "metadata": {
    "collapsed": false
   }
  },
  {
   "cell_type": "markdown",
   "source": [
    "## LOGISMOS graph: simple, no geometric constraints"
   ],
   "metadata": {
    "collapsed": false
   }
  },
  {
   "cell_type": "code",
   "execution_count": 22,
   "outputs": [
    {
     "data": {
      "text/plain": "<Figure size 432x288 with 1 Axes>",
      "image/png": "[encoded data removed]"
     },
     "metadata": {},
     "output_type": "display_data"
    }
   ],
   "source": [
    "edges_logismos_1 = [\n",
    "    (0,1), (0,5), (0,9),\n",
    "    (1,2),\n",
    "    (2,3),\n",
    "    (3,4),\n",
    "    (4,13),\n",
    "    (5,6),\n",
    "    (6,7),\n",
    "    (7,8),\n",
    "    (8,13),\n",
    "    (9,10),\n",
    "    (10,11),\n",
    "    (11,12),\n",
    "    (12,13),\n",
    "]\n",
    "\n",
    "graph_logismos = nx.Graph(edges_logismos_1)\n",
    "\n",
    "nx.draw(graph_logismos, with_labels=True)\n",
    "plt.show()\n"
   ],
   "metadata": {
    "collapsed": false
   }
  },
  {
   "cell_type": "markdown",
   "source": [],
   "metadata": {
    "collapsed": false
   }
  },
  {
   "cell_type": "markdown",
   "source": [
    "## Directed LOGISMOS graph: simple, no geometric constraints"
   ],
   "metadata": {
    "collapsed": false
   }
  },
  {
   "cell_type": "code",
   "execution_count": 1,
   "outputs": [
    {
     "ename": "NameError",
     "evalue": "name 'nx' is not defined",
     "output_type": "error",
     "traceback": [
      "\u001B[0;31m---------------------------------------------------------------------------\u001B[0m",
      "\u001B[0;31mNameError\u001B[0m                                 Traceback (most recent call last)",
      "Input \u001B[0;32mIn [1]\u001B[0m, in \u001B[0;36m<cell line: 1>\u001B[0;34m()\u001B[0m\n\u001B[0;32m----> 1\u001B[0m G_logismos \u001B[38;5;241m=\u001B[39m \u001B[43mnx\u001B[49m\u001B[38;5;241m.\u001B[39mDiGraph()\n\u001B[1;32m      2\u001B[0m G_logismos\u001B[38;5;241m.\u001B[39madd_edge(\u001B[38;5;124m'\u001B[39m\u001B[38;5;124m0\u001B[39m\u001B[38;5;124m'\u001B[39m, \u001B[38;5;124m'\u001B[39m\u001B[38;5;124m1\u001B[39m\u001B[38;5;124m'\u001B[39m, capacity\u001B[38;5;241m=\u001B[39m\u001B[38;5;241m100.0\u001B[39m)\n\u001B[1;32m      3\u001B[0m G_logismos\u001B[38;5;241m.\u001B[39madd_edge(\u001B[38;5;124m'\u001B[39m\u001B[38;5;124m0\u001B[39m\u001B[38;5;124m'\u001B[39m, \u001B[38;5;124m'\u001B[39m\u001B[38;5;124m5\u001B[39m\u001B[38;5;124m'\u001B[39m, capacity\u001B[38;5;241m=\u001B[39m\u001B[38;5;241m100.0\u001B[39m)\n",
      "\u001B[0;31mNameError\u001B[0m: name 'nx' is not defined"
     ]
    }
   ],
   "source": [
    "G_logismos = nx.DiGraph()\n",
    "G_logismos.add_edge('0', '1', capacity=100.0)\n",
    "G_logismos.add_edge('0', '5', capacity=100.0)\n",
    "G_logismos.add_edge('0', '9', capacity=100.0)\n",
    "\n",
    "G_logismos.add_edge('1', '2', capacity=2.0)\n",
    "G_logismos.add_edge('2', '3', capacity=1.0)\n",
    "G_logismos.add_edge('3', '4', capacity=1.0)\n",
    "G_logismos.add_edge('4', '13', capacity=100.0)            # sink\n",
    "G_logismos.add_edge('5', '6', capacity=2.0)\n",
    "G_logismos.add_edge('6', '7', capacity=2.0)\n",
    "G_logismos.add_edge('7', '8', capacity=1.0)\n",
    "G_logismos.add_edge('8', '13', capacity=100.0)        # sink\n",
    "G_logismos.add_edge('9', '10', capacity=2.0)\n",
    "G_logismos.add_edge('10', '11', capacity=2.0)\n",
    "G_logismos.add_edge('11', '12', capacity=1.0)\n",
    "G_logismos.add_edge('12', '13', capacity=100.0)           # sink\n",
    "\n",
    "nx.draw(G_logismos, with_labels=True)"
   ],
   "metadata": {
    "collapsed": false
   }
  },
  {
   "cell_type": "code",
   "execution_count": 61,
   "outputs": [
    {
     "data": {
      "text/plain": "3.0"
     },
     "execution_count": 61,
     "metadata": {},
     "output_type": "execute_result"
    }
   ],
   "source": [
    "flow_value, flow_dict = nx.maximum_flow(G_logismos, \"0\", \"13\")\n",
    "flow_value"
   ],
   "metadata": {
    "collapsed": false
   }
  },
  {
   "cell_type": "code",
   "execution_count": 62,
   "outputs": [],
   "source": [
    "cut_value, partition = nx.minimum_cut(G_logismos, \"0\", \"13\")\n",
    "reachable, non_reachable = partition\n"
   ],
   "metadata": {
    "collapsed": false
   }
  },
  {
   "cell_type": "markdown",
   "source": [],
   "metadata": {
    "collapsed": false
   }
  },
  {
   "cell_type": "code",
   "execution_count": 63,
   "outputs": [
    {
     "name": "stdout",
     "output_type": "stream",
     "text": [
      "[('11', '12'), ('3', '4'), ('7', '8')]\n"
     ]
    }
   ],
   "source": [
    "cutset = set()\n",
    "for u, nbrs in ((n, G_logismos[n]) for n in reachable):\n",
    "    cutset.update((u, v) for v in nbrs if v in non_reachable)\n",
    "print(sorted(cutset))"
   ],
   "metadata": {
    "collapsed": false
   }
  },
  {
   "cell_type": "markdown",
   "source": [
    "# CLASSICAL: Solved max-flow min-cut graph"
   ],
   "metadata": {
    "collapsed": false
   }
  },
  {
   "cell_type": "markdown",
   "source": [
    "## First example"
   ],
   "metadata": {
    "collapsed": false
   }
  },
  {
   "cell_type": "code",
   "execution_count": 37,
   "outputs": [
    {
     "data": {
      "text/plain": "<Figure size 432x288 with 1 Axes>",
      "image/png": "[encoded data removed]"
     },
     "metadata": {},
     "output_type": "display_data"
    }
   ],
   "source": [
    "G = nx.DiGraph()\n",
    "G.add_edge(\"x\", \"a\", capacity=3.0)\n",
    "G.add_edge(\"x\", \"b\", capacity=1.0)\n",
    "G.add_edge(\"a\", \"c\", capacity=3.0)\n",
    "G.add_edge(\"b\", \"c\", capacity=5.0)\n",
    "G.add_edge(\"b\", \"d\", capacity=4.0)\n",
    "G.add_edge(\"d\", \"e\", capacity=2.0)\n",
    "G.add_edge(\"c\", \"y\", capacity=2.0)\n",
    "G.add_edge(\"e\", \"y\", capacity=3.0)\n",
    "nx.draw(G, with_labels=True)"
   ],
   "metadata": {
    "collapsed": false
   }
  },
  {
   "cell_type": "code",
   "execution_count": 19,
   "outputs": [
    {
     "data": {
      "text/plain": "3.0"
     },
     "execution_count": 19,
     "metadata": {},
     "output_type": "execute_result"
    }
   ],
   "source": [
    "flow_value, flow_dict = nx.maximum_flow(G, \"x\", \"y\")\n",
    "flow_value"
   ],
   "metadata": {
    "collapsed": false
   }
  },
  {
   "cell_type": "code",
   "execution_count": 20,
   "outputs": [],
   "source": [
    "cut_value, partition = nx.minimum_cut(G, \"x\", \"y\")\n",
    "reachable, non_reachable = partition\n"
   ],
   "metadata": {
    "collapsed": false
   }
  },
  {
   "cell_type": "code",
   "execution_count": 21,
   "outputs": [
    {
     "name": "stdout",
     "output_type": "stream",
     "text": [
      "[('c', 'y'), ('x', 'b')]\n"
     ]
    }
   ],
   "source": [
    "cutset = set()\n",
    "for u, nbrs in ((n, G[n]) for n in reachable):\n",
    "    cutset.update((u, v) for v in nbrs if v in non_reachable)\n",
    "print(sorted(cutset))"
   ],
   "metadata": {
    "collapsed": false
   }
  },
  {
   "cell_type": "markdown",
   "source": [
    "## LOGISMOS, hard constraint"
   ],
   "metadata": {
    "collapsed": false
   }
  },
  {
   "cell_type": "code",
   "execution_count": 12,
   "outputs": [
    {
     "data": {
      "text/plain": "<Figure size 432x288 with 1 Axes>",
      "image/png": "[encoded data removed]"
     },
     "metadata": {},
     "output_type": "display_data"
    }
   ],
   "source": [
    "G = nx.DiGraph()\n",
    "inf = 500\n",
    "G.add_edge(\"04\", \"03\", capacity=inf)\n",
    "G.add_edge(\"03\", \"02\", capacity=inf)\n",
    "G.add_edge(\"02\", \"01\", capacity=inf)\n",
    "G.add_edge(\"01\", \"00\", capacity=inf)\n",
    "G.add_edge(\"14\", \"13\", capacity=inf)\n",
    "G.add_edge(\"13\", \"12\", capacity=inf)\n",
    "G.add_edge(\"12\", \"11\", capacity=inf)\n",
    "G.add_edge(\"11\", \"10\", capacity=inf)\n",
    "G.add_edge(\"24\", \"23\", capacity=inf)\n",
    "G.add_edge(\"23\", \"22\", capacity=inf)\n",
    "G.add_edge(\"22\", \"21\", capacity=inf)\n",
    "G.add_edge(\"21\", \"20\", capacity=inf)\n",
    "\n",
    "G.add_edge(\"04\", \"12\", capacity=inf)\n",
    "G.add_edge(\"03\", \"11\", capacity=inf)\n",
    "G.add_edge(\"02\", \"10\", capacity=inf)\n",
    "\n",
    "G.add_edge(\"14\", \"22\", capacity=inf)\n",
    "G.add_edge(\"13\", \"21\", capacity=inf)\n",
    "G.add_edge(\"12\", \"20\", capacity=inf)\n",
    "\n",
    "G.add_edge(\"14\", \"02\", capacity=inf)\n",
    "G.add_edge(\"13\", \"01\", capacity=inf)\n",
    "G.add_edge(\"12\", \"00\", capacity=inf)\n",
    "\n",
    "G.add_edge(\"24\", \"12\", capacity=inf)\n",
    "G.add_edge(\"23\", \"11\", capacity=inf)\n",
    "G.add_edge(\"22\", \"10\", capacity=inf)\n",
    "\n",
    "# From source to positively weighted nodes\n",
    "# if a node has positive weight\n",
    "# add an edge from source (s) to the node with capacity equal to +(the weight)\n",
    "G.add_edge(\"s\", \"01\", capacity=13)\n",
    "G.add_edge(\"s\", \"11\", capacity=13)\n",
    "G.add_edge(\"s\", \"22\", capacity=16)\n",
    "\n",
    "# To avoid \"empty set\" error mention in original paper\n",
    "# set weight of all base nodes to -1\n",
    "# then add an edge from source (s) to those base node with capacity equal to -(the weight)=-(-1)=1\n",
    "G.add_edge(\"s\", \"00\", capacity=1)\n",
    "G.add_edge(\"s\", \"10\", capacity=1)\n",
    "G.add_edge(\"s\", \"20\", capacity=1)\n",
    "\n",
    "# From negatively weighted nodes to sink\n",
    "# if a node has negative weight\n",
    "# add an edge from source (s) to the node with capacity equal to -(the weight)\n",
    "G.add_edge(\"04\", \"t\", capacity=10)\n",
    "G.add_edge(\"03\", \"t\", capacity=10)\n",
    "G.add_edge(\"02\", \"t\", capacity=18)\n",
    "\n",
    "G.add_edge(\"14\", \"t\", capacity=5)\n",
    "G.add_edge(\"13\", \"t\", capacity=1)\n",
    "G.add_edge(\"12\", \"t\", capacity=17)\n",
    "\n",
    "G.add_edge(\"24\", \"t\", capacity=10)\n",
    "G.add_edge(\"23\", \"t\", capacity=1)\n",
    "G.add_edge(\"21\", \"t\", capacity=3)\n",
    "\n",
    "nx.draw(G, with_labels=True)\n",
    "\n",
    "# rename nodes '00' to '1' and so on\n",
    "G_integer = nx.convert_node_labels_to_integers(G, first_label=1, ordering=\"default\", label_attribute='old_label')"
   ],
   "metadata": {
    "collapsed": false
   }
  },
  {
   "cell_type": "markdown",
   "source": [
    "### On original graph, 00-nn ordering"
   ],
   "metadata": {
    "collapsed": false
   }
  },
  {
   "cell_type": "code",
   "execution_count": 6,
   "outputs": [
    {
     "data": {
      "text/plain": "3"
     },
     "execution_count": 6,
     "metadata": {},
     "output_type": "execute_result"
    }
   ],
   "source": [
    "flow_value, flow_dict = nx.maximum_flow(G, \"s\", \"t\")\n",
    "flow_value\n"
   ],
   "metadata": {
    "collapsed": false
   }
  },
  {
   "cell_type": "code",
   "execution_count": 7,
   "outputs": [
    {
     "name": "stdout",
     "output_type": "stream",
     "text": [
      "[('21', 't')]\n"
     ]
    }
   ],
   "source": [
    "cut_value, partition = nx.minimum_cut(G, \"s\", \"t\")\n",
    "reachable, non_reachable = partition\n",
    "\n",
    "cutset = set()\n",
    "for u, nbrs in ((n, G[n]) for n in reachable):\n",
    "    cutset.update((u, v) for v in nbrs if v in non_reachable)\n",
    "print(sorted(cutset))"
   ],
   "metadata": {
    "collapsed": false
   }
  },
  {
   "cell_type": "code",
   "execution_count": 8,
   "outputs": [
    {
     "data": {
      "text/plain": "({'00', '01', '10', '11', '20', '21', '22', 's'},\n {'02', '03', '04', '12', '13', '14', '23', '24', 't'})"
     },
     "execution_count": 8,
     "metadata": {},
     "output_type": "execute_result"
    }
   ],
   "source": [
    "partition"
   ],
   "metadata": {
    "collapsed": false
   }
  },
  {
   "cell_type": "code",
   "execution_count": 8,
   "outputs": [
    {
     "data": {
      "text/plain": "{'00', '01', '10', '11', '20', '21', '22', 's'}"
     },
     "execution_count": 8,
     "metadata": {},
     "output_type": "execute_result"
    }
   ],
   "source": [
    "reachable"
   ],
   "metadata": {
    "collapsed": false
   }
  },
  {
   "cell_type": "code",
   "execution_count": 32,
   "outputs": [
    {
     "name": "stdout",
     "output_type": "stream",
     "text": [
      "/nfs/s-iibi60/users/nale/iiai-projects/quantum-graph-remote\r\n"
     ]
    }
   ],
   "source": [
    "!pwd"
   ],
   "metadata": {
    "collapsed": false
   }
  },
  {
   "cell_type": "markdown",
   "source": [
    "### On integer graph, 1-n ordering"
   ],
   "metadata": {
    "collapsed": false
   }
  },
  {
   "cell_type": "code",
   "execution_count": 33,
   "outputs": [
    {
     "data": {
      "text/plain": "<Figure size 432x288 with 1 Axes>",
      "image/png": "[encoded data removed]"
     },
     "metadata": {},
     "output_type": "display_data"
    }
   ],
   "source": [
    "nx.draw(G_integer, with_labels=True)\n",
    "\n",
    "# save G_integer graph to file for later use\n",
    "nx.write_gml(G_integer, './graph_samples/logismos_2d_hardconstraints.gml')"
   ],
   "metadata": {
    "collapsed": false
   }
  },
  {
   "cell_type": "code",
   "execution_count": 19,
   "outputs": [
    {
     "name": "stdout",
     "output_type": "stream",
     "text": [
      "(1, 2, {'capacity': 500})\n",
      "(1, 8, {'capacity': 500})\n",
      "(1, 17, {'capacity': 10})\n",
      "(2, 3, {'capacity': 500})\n",
      "(2, 9, {'capacity': 500})\n",
      "(2, 17, {'capacity': 10})\n",
      "(3, 4, {'capacity': 500})\n",
      "(3, 10, {'capacity': 500})\n",
      "(3, 17, {'capacity': 18})\n",
      "(4, 5, {'capacity': 500})\n",
      "(6, 7, {'capacity': 500})\n",
      "(6, 13, {'capacity': 500})\n",
      "(6, 3, {'capacity': 500})\n",
      "(6, 17, {'capacity': 5})\n",
      "(7, 8, {'capacity': 500})\n",
      "(7, 14, {'capacity': 500})\n",
      "(7, 4, {'capacity': 500})\n",
      "(7, 17, {'capacity': 1})\n",
      "(8, 9, {'capacity': 500})\n",
      "(8, 15, {'capacity': 500})\n",
      "(8, 5, {'capacity': 500})\n",
      "(8, 17, {'capacity': 17})\n",
      "(9, 10, {'capacity': 500})\n",
      "(11, 12, {'capacity': 500})\n",
      "(11, 8, {'capacity': 500})\n",
      "(11, 17, {'capacity': 10})\n",
      "(12, 13, {'capacity': 500})\n",
      "(12, 9, {'capacity': 500})\n",
      "(12, 17, {'capacity': 1})\n",
      "(13, 14, {'capacity': 500})\n",
      "(13, 10, {'capacity': 500})\n",
      "(14, 15, {'capacity': 500})\n",
      "(14, 17, {'capacity': 3})\n",
      "(16, 4, {'capacity': 13})\n",
      "(16, 9, {'capacity': 13})\n",
      "(16, 13, {'capacity': 16})\n",
      "(16, 5, {'capacity': 1})\n",
      "(16, 10, {'capacity': 1})\n",
      "(16, 15, {'capacity': 1})\n"
     ]
    }
   ],
   "source": [
    "# show all edges with capacity of G_integer graph\n",
    "for edge in G_integer.edges(data=True):\n",
    "    print(edge)\n"
   ],
   "metadata": {
    "collapsed": false
   }
  },
  {
   "cell_type": "code",
   "execution_count": 27,
   "outputs": [
    {
     "name": "stdout",
     "output_type": "stream",
     "text": [
      "(1, {'old_label': '04'})\n",
      "(2, {'old_label': '03'})\n",
      "(3, {'old_label': '02'})\n",
      "(4, {'old_label': '01'})\n",
      "(5, {'old_label': '00'})\n",
      "(6, {'old_label': '14'})\n",
      "(7, {'old_label': '13'})\n",
      "(8, {'old_label': '12'})\n",
      "(9, {'old_label': '11'})\n",
      "(10, {'old_label': '10'})\n",
      "(11, {'old_label': '24'})\n",
      "(12, {'old_label': '23'})\n",
      "(13, {'old_label': '22'})\n",
      "(14, {'old_label': '21'})\n",
      "(15, {'old_label': '20'})\n",
      "(16, {'old_label': 's'})\n",
      "(17, {'old_label': 't'})\n"
     ]
    }
   ],
   "source": [
    "for node in G_integer.nodes(data=True):\n",
    "    print(node)"
   ],
   "metadata": {
    "collapsed": false
   }
  },
  {
   "cell_type": "code",
   "execution_count": 29,
   "outputs": [
    {
     "name": "stdout",
     "output_type": "stream",
     "text": [
      "[(14, 17)]\n"
     ]
    }
   ],
   "source": [
    "cut_value, partition = nx.minimum_cut(G_integer, 16, 17)\n",
    "reachable, non_reachable = partition\n",
    "\n",
    "cutset = set()\n",
    "for u, nbrs in ((n, G_integer[n]) for n in reachable):\n",
    "    cutset.update((u, v) for v in nbrs if v in non_reachable)\n",
    "print(sorted(cutset))"
   ],
   "metadata": {
    "collapsed": false
   }
  },
  {
   "cell_type": "code",
   "execution_count": 30,
   "outputs": [
    {
     "data": {
      "text/plain": "({4, 5, 9, 10, 13, 14, 15, 16}, {1, 2, 3, 6, 7, 8, 11, 12, 17})"
     },
     "execution_count": 30,
     "metadata": {},
     "output_type": "execute_result"
    }
   ],
   "source": [
    "partition"
   ],
   "metadata": {
    "collapsed": false
   }
  },
  {
   "cell_type": "code",
   "execution_count": 31,
   "outputs": [
    {
     "data": {
      "text/plain": "{4, 5, 9, 10, 13, 14, 15, 16}"
     },
     "execution_count": 31,
     "metadata": {},
     "output_type": "execute_result"
    }
   ],
   "source": [
    "reachable"
   ],
   "metadata": {
    "collapsed": false
   }
  },
  {
   "cell_type": "markdown",
   "source": [
    "## Krauss example"
   ],
   "metadata": {
    "collapsed": false
   }
  },
  {
   "cell_type": "code",
   "execution_count": 20,
   "outputs": [],
   "source": [
    "G = nx.DiGraph()\n",
    "inf = 500\n",
    "G.add_edge(\"x1\", \"x2\", capacity=1) # (0, 1, 1.0)\n",
    "G.add_edge(\"x1\", \"x3\", capacity=2) # (0, 2, 2.0)\n",
    "G.add_edge(\"x2\", \"x4\", capacity=2) # (1, 3, 2.0)\n",
    "G.add_edge(\"x3\", \"x4\", capacity=1) # (2, 3, 1.0)\n",
    "\n",
    "# new edge\n",
    "# G.add_edge(\"x2\", \"x3\", capacity=1)\n"
   ],
   "metadata": {
    "collapsed": false
   }
  },
  {
   "cell_type": "code",
   "execution_count": 21,
   "outputs": [
    {
     "data": {
      "text/plain": "2"
     },
     "execution_count": 21,
     "metadata": {},
     "output_type": "execute_result"
    }
   ],
   "source": [
    "flow_value, flow_dict = nx.maximum_flow(G, \"x1\", \"x4\")\n",
    "flow_value\n"
   ],
   "metadata": {
    "collapsed": false
   }
  },
  {
   "cell_type": "code",
   "execution_count": 22,
   "outputs": [
    {
     "name": "stdout",
     "output_type": "stream",
     "text": [
      "[('x1', 'x2'), ('x3', 'x4')]\n"
     ]
    }
   ],
   "source": [
    "cut_value, partition = nx.minimum_cut(G, \"x1\", \"x4\")\n",
    "reachable, non_reachable = partition\n",
    "\n",
    "cutset = set()\n",
    "for u, nbrs in ((n, G[n]) for n in reachable):\n",
    "    cutset.update((u, v) for v in nbrs if v in non_reachable)\n",
    "print(sorted(cutset))"
   ],
   "metadata": {
    "collapsed": false
   }
  },
  {
   "cell_type": "code",
   "execution_count": 23,
   "outputs": [
    {
     "data": {
      "text/plain": "({'x1', 'x3'}, {'x2', 'x4'})"
     },
     "execution_count": 23,
     "metadata": {},
     "output_type": "execute_result"
    }
   ],
   "source": [
    "partition"
   ],
   "metadata": {
    "collapsed": false
   }
  },
  {
   "cell_type": "markdown",
   "source": [
    "# LOGISMOS graph"
   ],
   "metadata": {
    "collapsed": false
   }
  },
  {
   "cell_type": "code",
   "execution_count": 39,
   "outputs": [
    {
     "name": "stdout",
     "output_type": "stream",
     "text": [
      "['x00', 'x01', 'x02', 'x03', 'x04', 'x10', 'x11', 'x12', 'x13', 'x14', 'x20', 'x21', 'x22', 'x23', 'x24']\n"
     ]
    },
    {
     "data": {
      "text/plain": "17"
     },
     "execution_count": 39,
     "metadata": {},
     "output_type": "execute_result"
    }
   ],
   "source": [
    "size = [5, 3]\n",
    "import itertools\n",
    "nodes = ['x'+str(j)+str(i) for j, i in itertools.product(range(size[1]), range(size[0]))]\n",
    "print(nodes)\n",
    "\n",
    "terminal_weights = [\n",
    "    [15, -13, 18, 10, 10],\n",
    "    [16, -13, 17, 1, 5],\n",
    "    [17, 3, -16, 1, 10],\n",
    "]\n",
    "\n",
    "inf = 100*size[0]*size[1]\n",
    "\n",
    "constraint_smoothness = 2\n",
    "\n",
    "G = nx.DiGraph()\n",
    "\n",
    "for i in range(size[1]):\n",
    "    for j in range(size[0]):\n",
    "        print('For vertice', i+1, j+1)\n",
    "\n",
    "        if j == 0:\n",
    "            continue\n",
    "\n",
    "\n",
    "\n",
    "        # left most col, vertex immediately above the base\n",
    "        if i == 0 and j == 1:\n",
    "            G.add_edge('x'+str(i)+str(j), 'x'+str(i)+str(0), capacity=inf)\n",
    "            G.add_edge('x'+str(i)+str(j), 'x'+str(i+1)+str(0), capacity=inf)\n",
    "            G.add_edge('x'+str(i)+str(j), 'x'+str(i)+str(j+2), capacity=inf)\n",
    "            G.add_edge('x'+str(i)+str(j), 'x'+str(i)+str(j+3), capacity=terminal_weights[i][j])\n",
    "            G.add_edge('x'+str(i)+str(j), 'x'+str(i)+str(j+4), capacity=terminal_weights[i][j])\n",
    "            continue\n",
    "\n",
    "        if i == size[1]-1 and j == 1:"
   ],
   "metadata": {
    "collapsed": false
   }
  },
  {
   "cell_type": "code",
   "execution_count": null,
   "outputs": [],
   "source": [
    "size = [5, 3]\n",
    "\n",
    "\n",
    "for i in range(size[0]):\n",
    "    for j in range(size[1]):\n",
    "        G.add_edge((i, j), (i, j + 1), capacity=terminal_weight[i][j])\n",
    "        G.add_edge((i, j), (i + 1, j), capacity=terminal_weight[i][j])\n",
    "        G.add_edge((i, j), (i, j - 1), capacity=terminal_weight[i][j])\n",
    "        G.add_edge((i, j), (i - 1, j), capacity=terminal_weight[i][j])\n",
    "\n",
    "G.add_edge(\"x\", \"a\", capacity=3.0)\n",
    "G.add_edge(\"x\", \"b\", capacity=1.0)\n",
    "G.add_edge(\"a\", \"c\", capacity=3.0)\n",
    "G.add_edge(\"b\", \"c\", capacity=5.0)\n",
    "G.add_edge(\"b\", \"d\", capacity=4.0)\n",
    "G.add_edge(\"d\", \"e\", capacity=2.0)\n",
    "G.add_edge(\"c\", \"y\", capacity=2.0)\n",
    "G.add_edge(\"e\", \"y\", capacity=3.0)\n",
    "nx.draw(G, with_labels=True)"
   ],
   "metadata": {
    "collapsed": false
   }
  },
  {
   "cell_type": "code",
   "execution_count": null,
   "outputs": [],
   "source": [],
   "metadata": {
    "collapsed": false
   }
  },
  {
   "cell_type": "markdown",
   "source": [
    "# Generate random image"
   ],
   "metadata": {
    "collapsed": false
   }
  },
  {
   "cell_type": "code",
   "execution_count": null,
   "outputs": [],
   "source": [
    "# write a function that generate random 2-d image which has a background and a foreground, foreground is the upper half of the image define by parameter a. The boundary of background and foreground is on a arbitrary curve defined by parameter b. The background and foreground are both random noise. The noise is defined by parameter c. The noise is a random number between 0 and c. The image is a 2-d array of size 100x100. The function should return the image\n",
    "\n"
   ],
   "metadata": {
    "collapsed": false
   }
  },
  {
   "cell_type": "code",
   "execution_count": null,
   "outputs": [],
   "source": [],
   "metadata": {
    "collapsed": false
   }
  },
  {
   "cell_type": "code",
   "execution_count": 1,
   "outputs": [],
   "source": [
    "import numpy as np\n",
    "import random\n",
    "import matplotlib.pyplot as plt\n",
    "\n",
    "def generate_image(n, c):\n",
    "    # Create an array of zeros with shape (n, n)\n",
    "    img = np.zeros((n, n))\n",
    "\n",
    "    # Define the boundary between the object and the background\n",
    "    y = int(n / 2)\n",
    "\n",
    "    # Fill the object region with random intensities\n",
    "    for i in range(n):\n",
    "        for j in range(y, n):\n",
    "            img[j, i] = random.uniform(0, 1)\n",
    "\n",
    "    # Fill the background region with random intensities\n",
    "    for i in range(n):\n",
    "        for j in range(0, y):\n",
    "            img[j, i] = random.uniform(0, 1)\n",
    "\n",
    "    # Add random noise to the image\n",
    "    noise = np.random.normal(0, c, (n, n))\n",
    "    img = img + noise\n",
    "\n",
    "    return img"
   ],
   "metadata": {
    "collapsed": false
   }
  },
  {
   "cell_type": "code",
   "execution_count": 1,
   "outputs": [
    {
     "data": {
      "text/plain": "<Figure size 432x288 with 1 Axes>",
      "image/png": "[encoded data removed]"
     },
     "metadata": {
      "needs_background": "light"
     },
     "output_type": "display_data"
    },
    {
     "data": {
      "text/plain": "<Figure size 432x288 with 1 Axes>",
      "image/png": "[encoded data removed]"
     },
     "metadata": {
      "needs_background": "light"
     },
     "output_type": "display_data"
    }
   ],
   "source": [
    "import numpy as np\n",
    "import random\n",
    "import matplotlib.pyplot as plt\n",
    "\n",
    "size = 100\n",
    "starting_boundary = 0.4\n",
    "radius = size/4\n",
    "offset = 10\n",
    "c = 0.5\n",
    "smoothness = int(size/6)\n",
    "\n",
    "\n",
    "img = np.zeros((size, size))\n",
    "\n",
    "# Define the boundary between the object and the background\n",
    "y = int(size*starting_boundary)\n",
    "\n",
    "# random generate list of y that varies within y +/- smoothness\n",
    "y_list = [random.randint(y-smoothness, y+smoothness) for i in range(size)]\n",
    "\n",
    "# Fill the object region with random intensities\n",
    "for i in range(size):\n",
    "    for j in range(y_list[i], size):\n",
    "        img[j, i] = random.uniform(0+offset, 1+offset)\n",
    "\n",
    "# Fill the background region with random intensities\n",
    "# for i in range(size):\n",
    "#     for j in range(0, y):\n",
    "#         img[j, i] = random.uniform(0, 1)\n",
    "\n",
    "# Add a round shape whose center in the middle of the image starting_boundary*size and radius is 0.2*size\n",
    "for i in range(size):\n",
    "    for j in range(size):\n",
    "        if (i-size*starting_boundary)**2 + (j-size/2)**2 < radius**2:\n",
    "            img[j, i] = random.uniform(0+offset, 1+offset)\n",
    "\n",
    "\n",
    "# Add random noise to the image\n",
    "noise = np.random.normal(0, c, (size, size))\n",
    "img = img + noise\n",
    "\n",
    "\n",
    "\n",
    "# show s as image using matplotlib\n",
    "plt.imshow(img, cmap='binary')\n",
    "plt.show()\n",
    "\n",
    "# denoise the image using median filter\n",
    "from scipy import ndimage\n",
    "import matplotlib.pyplot as plt\n",
    "\n",
    "# Apply the median filter\n",
    "im_med = ndimage.median_filter(img, size=int(size/3))\n",
    "plt.imshow(im_med, cmap='binary')\n",
    "plt.show()"
   ],
   "metadata": {
    "collapsed": false
   }
  },
  {
   "cell_type": "code",
   "execution_count": 38,
   "outputs": [
    {
     "data": {
      "text/plain": "<Figure size 432x288 with 1 Axes>",
      "image/png": "[encoded data removed]"
     },
     "metadata": {
      "needs_background": "light"
     },
     "output_type": "display_data"
    }
   ],
   "source": [
    "# resize img_med to 10x10\n",
    "from skimage.transform import resize\n",
    "img_med = resize(im_med, (6, 6), anti_aliasing=True)\n",
    "plt.imshow(img_med, cmap='binary')\n",
    "plt.show()\n"
   ],
   "metadata": {
    "collapsed": false
   }
  },
  {
   "cell_type": "code",
   "execution_count": 139,
   "outputs": [
    {
     "data": {
      "text/plain": "<Figure size 432x288 with 1 Axes>",
      "image/png": "[encoded data removed]"
     },
     "metadata": {
      "needs_background": "light"
     },
     "output_type": "display_data"
    },
    {
     "data": {
      "text/plain": "(100, 100)"
     },
     "execution_count": 139,
     "metadata": {},
     "output_type": "execute_result"
    }
   ],
   "source": [
    "import numpy as np\n",
    "import matplotlib.pyplot as plt\n",
    "from scipy.signal import convolve2d\n",
    "\n",
    "# Load the numpy arra\n",
    "\n",
    "def sobel(img):\n",
    "    # Calculate the gradient\n",
    "    sobel_x = np.array([[-1, 0, 1], [-2, 0, 2], [-1, 0, 1]])\n",
    "    sobel_y = np.array([[-1, -2, -1], [0, 0, 0], [1, 2, 1]])\n",
    "\n",
    "    # pad the image with adjacent values to avoid edge effects when convolving with the sobel filters\n",
    "    im_med = np.pad(img, 1, mode='edge')\n",
    "\n",
    "    grad_x = np.abs(convolve2d(im_med, sobel_x, mode='same'))\n",
    "    grad_y = np.abs(convolve2d(im_med, sobel_y, mode='same'))\n",
    "\n",
    "    # Combine the gradient images\n",
    "    grad = np.sqrt(np.square(grad_x)\n",
    "                   + np.square(grad_y)\n",
    "                   )\n",
    "\n",
    "    # remove the padding from the image to match the original image size before convolution\n",
    "    grad = grad[1:-1, 1:-1]\n",
    "\n",
    "    return grad\n",
    "\n",
    "\n",
    "# Display the gradient image\n",
    "plt.imshow(sobel(im_med), cmap='gray')\n",
    "plt.show()\n",
    "\n",
    "# shape of im_med\n",
    "im_med.shape"
   ],
   "metadata": {
    "collapsed": false
   }
  },
  {
   "cell_type": "code",
   "execution_count": 84,
   "outputs": [
    {
     "data": {
      "text/plain": "<Figure size 432x288 with 1 Axes>",
      "image/png": "[encoded data removed]"
     },
     "metadata": {
      "needs_background": "light"
     },
     "output_type": "display_data"
    }
   ],
   "source": [
    "from scipy import ndimage\n",
    "edges = ndimage.sobel(im_med)\n",
    "\n",
    "# Display the edge image\n",
    "plt.imshow(edges, cmap='gray')\n",
    "plt.show()"
   ],
   "metadata": {
    "collapsed": false
   }
  },
  {
   "cell_type": "code",
   "execution_count": 45,
   "outputs": [
    {
     "ename": "ImportError",
     "evalue": "cannot import name 'datasets' from 'scipy' (/user/iibi/nale/.conda/envs/quantum-py38/lib/python3.8/site-packages/scipy/__init__.py)",
     "output_type": "error",
     "traceback": [
      "\u001B[0;31m---------------------------------------------------------------------------\u001B[0m",
      "\u001B[0;31mImportError\u001B[0m                               Traceback (most recent call last)",
      "Input \u001B[0;32mIn [45]\u001B[0m, in \u001B[0;36m<cell line: 1>\u001B[0;34m()\u001B[0m\n\u001B[0;32m----> 1\u001B[0m \u001B[38;5;28;01mfrom\u001B[39;00m \u001B[38;5;21;01mscipy\u001B[39;00m \u001B[38;5;28;01mimport\u001B[39;00m ndimage, datasets\n\u001B[1;32m      2\u001B[0m \u001B[38;5;28;01mimport\u001B[39;00m \u001B[38;5;21;01mmatplotlib\u001B[39;00m\u001B[38;5;21;01m.\u001B[39;00m\u001B[38;5;21;01mpyplot\u001B[39;00m \u001B[38;5;28;01mas\u001B[39;00m \u001B[38;5;21;01mplt\u001B[39;00m\n\u001B[1;32m      3\u001B[0m fig \u001B[38;5;241m=\u001B[39m plt\u001B[38;5;241m.\u001B[39mfigure()\n",
      "\u001B[0;31mImportError\u001B[0m: cannot import name 'datasets' from 'scipy' (/user/iibi/nale/.conda/envs/quantum-py38/lib/python3.8/site-packages/scipy/__init__.py)"
     ]
    }
   ],
   "source": [
    "from scipy import ndimage, datasets\n",
    "import matplotlib.pyplot as plt\n",
    "fig = plt.figure()\n",
    "plt.gray()  # show the filtered result in grayscale\n",
    "ax1 = fig.add_subplot(121)  # left side\n",
    "ax2 = fig.add_subplot(122)  # right side\n",
    "ascent = datasets.ascent()\n",
    "result = ndimage.sobel(ascent)\n",
    "ax1.imshow(ascent)\n",
    "ax2.imshow(result)\n",
    "plt.show()"
   ],
   "metadata": {
    "collapsed": false
   }
  },
  {
   "cell_type": "code",
   "execution_count": null,
   "outputs": [],
   "source": [],
   "metadata": {
    "collapsed": false
   }
  },
  {
   "cell_type": "code",
   "execution_count": null,
   "outputs": [],
   "source": [],
   "metadata": {
    "collapsed": false
   }
  },
  {
   "cell_type": "code",
   "execution_count": null,
   "outputs": [],
   "source": [],
   "metadata": {
    "collapsed": false
   }
  },
  {
   "cell_type": "code",
   "execution_count": null,
   "outputs": [],
   "source": [],
   "metadata": {
    "collapsed": false
   }
  },
  {
   "cell_type": "code",
   "execution_count": null,
   "outputs": [],
   "source": [],
   "metadata": {
    "collapsed": false
   }
  },
  {
   "cell_type": "code",
   "execution_count": null,
   "outputs": [],
   "source": [],
   "metadata": {
    "collapsed": false
   }
  }
 ],
 "metadata": {
  "kernelspec": {
   "display_name": "Python 3",
   "language": "python",
   "name": "python3"
  },
  "language_info": {
   "codemirror_mode": {
    "name": "ipython",
    "version": 2
   },
   "file_extension": ".py",
   "mimetype": "text/x-python",
   "name": "python",
   "nbconvert_exporter": "python",
   "pygments_lexer": "ipython2",
   "version": "2.7.6"
  }
 },
 "nbformat": 4,
 "nbformat_minor": 0
}
